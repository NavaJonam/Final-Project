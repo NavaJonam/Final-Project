{
  "cells": [
    {
      "cell_type": "code",
      "execution_count": null,
      "metadata": {
        "id": "fjXN89fHWEEr"
      },
      "outputs": [],
      "source": [],
      "id": "fjXN89fHWEEr"
    },
    {
      "cell_type": "markdown",
      "metadata": {
        "id": "KxoGsOyEUrAJ"
      },
      "source": [
        "## **Classification model:**\n",
        "\n",
        "***a. Loan Status Prediction:***\n",
        "\n",
        "i. This is a Property Loan Status Prediction dataset, we have the data of\n",
        "applicants who had previously applied for the loan based on the property and\n",
        "applicant-based metrics.\n",
        "\n",
        "ii. The bank will decide whether to give a loan to the applicant based on some\n",
        "\n",
        "factors such as Applicant Income, Loan Amount, previous Credit History, Co-\n",
        "applicant Income, etc.\n",
        "\n",
        "iii. The objective is to build a Machine Learning Model to predict the loan to be\n",
        "approved or to be rejected for an applicant.\n",
        "iv. You are free to use any classification."
      ],
      "id": "KxoGsOyEUrAJ"
    },
    {
      "cell_type": "code",
      "execution_count": 1,
      "metadata": {
        "id": "a6f186ba"
      },
      "outputs": [],
      "source": [
        "import pandas as pd\n",
        "import numpy as np\n",
        "import matplotlib.pyplot as plt\n",
        "import seaborn as sns\n",
        "\n",
        "from sklearn.model_selection import train_test_split\n",
        "from sklearn.linear_model import LogisticRegression\n",
        "from sklearn import metrics\n",
        "\n",
        "from sklearn.metrics import plot_roc_curve, roc_curve, roc_auc_score, confusion_matrix, f1_score\n"
      ],
      "id": "a6f186ba"
    },
    {
      "cell_type": "code",
      "execution_count": 4,
      "metadata": {
        "id": "33619cdf"
      },
      "outputs": [],
      "source": [
        "x_train=pd.read_csv(\"train.csv\")\n",
        "x_test=pd.read_csv('test.csv')"
      ],
      "id": "33619cdf"
    },
    {
      "cell_type": "code",
      "execution_count": 5,
      "metadata": {
        "id": "086a3bea",
        "outputId": "bfd5d33d-fc79-4aaa-9900-835350b3ee8d",
        "colab": {
          "base_uri": "https://localhost:8080/",
          "height": 206
        }
      },
      "outputs": [
        {
          "output_type": "execute_result",
          "data": {
            "text/plain": [
              "    Loan_ID Gender Married Dependents     Education Self_Employed  \\\n",
              "0  LP001002   Male      No          0      Graduate            No   \n",
              "1  LP001003   Male     Yes          1      Graduate            No   \n",
              "2  LP001005   Male     Yes          0      Graduate           Yes   \n",
              "3  LP001006   Male     Yes          0  Not Graduate            No   \n",
              "4  LP001008   Male      No          0      Graduate            No   \n",
              "\n",
              "   ApplicantIncome  CoapplicantIncome  LoanAmount  Loan_Amount_Term  \\\n",
              "0             5849                0.0         NaN             360.0   \n",
              "1             4583             1508.0       128.0             360.0   \n",
              "2             3000                0.0        66.0             360.0   \n",
              "3             2583             2358.0       120.0             360.0   \n",
              "4             6000                0.0       141.0             360.0   \n",
              "\n",
              "   Credit_History Property_Area Loan_Status  \n",
              "0             1.0         Urban           Y  \n",
              "1             1.0         Rural           N  \n",
              "2             1.0         Urban           Y  \n",
              "3             1.0         Urban           Y  \n",
              "4             1.0         Urban           Y  "
            ],
            "text/html": [
              "\n",
              "  <div id=\"df-b632bc8f-5532-493b-a023-4d8d15a92f71\">\n",
              "    <div class=\"colab-df-container\">\n",
              "      <div>\n",
              "<style scoped>\n",
              "    .dataframe tbody tr th:only-of-type {\n",
              "        vertical-align: middle;\n",
              "    }\n",
              "\n",
              "    .dataframe tbody tr th {\n",
              "        vertical-align: top;\n",
              "    }\n",
              "\n",
              "    .dataframe thead th {\n",
              "        text-align: right;\n",
              "    }\n",
              "</style>\n",
              "<table border=\"1\" class=\"dataframe\">\n",
              "  <thead>\n",
              "    <tr style=\"text-align: right;\">\n",
              "      <th></th>\n",
              "      <th>Loan_ID</th>\n",
              "      <th>Gender</th>\n",
              "      <th>Married</th>\n",
              "      <th>Dependents</th>\n",
              "      <th>Education</th>\n",
              "      <th>Self_Employed</th>\n",
              "      <th>ApplicantIncome</th>\n",
              "      <th>CoapplicantIncome</th>\n",
              "      <th>LoanAmount</th>\n",
              "      <th>Loan_Amount_Term</th>\n",
              "      <th>Credit_History</th>\n",
              "      <th>Property_Area</th>\n",
              "      <th>Loan_Status</th>\n",
              "    </tr>\n",
              "  </thead>\n",
              "  <tbody>\n",
              "    <tr>\n",
              "      <th>0</th>\n",
              "      <td>LP001002</td>\n",
              "      <td>Male</td>\n",
              "      <td>No</td>\n",
              "      <td>0</td>\n",
              "      <td>Graduate</td>\n",
              "      <td>No</td>\n",
              "      <td>5849</td>\n",
              "      <td>0.0</td>\n",
              "      <td>NaN</td>\n",
              "      <td>360.0</td>\n",
              "      <td>1.0</td>\n",
              "      <td>Urban</td>\n",
              "      <td>Y</td>\n",
              "    </tr>\n",
              "    <tr>\n",
              "      <th>1</th>\n",
              "      <td>LP001003</td>\n",
              "      <td>Male</td>\n",
              "      <td>Yes</td>\n",
              "      <td>1</td>\n",
              "      <td>Graduate</td>\n",
              "      <td>No</td>\n",
              "      <td>4583</td>\n",
              "      <td>1508.0</td>\n",
              "      <td>128.0</td>\n",
              "      <td>360.0</td>\n",
              "      <td>1.0</td>\n",
              "      <td>Rural</td>\n",
              "      <td>N</td>\n",
              "    </tr>\n",
              "    <tr>\n",
              "      <th>2</th>\n",
              "      <td>LP001005</td>\n",
              "      <td>Male</td>\n",
              "      <td>Yes</td>\n",
              "      <td>0</td>\n",
              "      <td>Graduate</td>\n",
              "      <td>Yes</td>\n",
              "      <td>3000</td>\n",
              "      <td>0.0</td>\n",
              "      <td>66.0</td>\n",
              "      <td>360.0</td>\n",
              "      <td>1.0</td>\n",
              "      <td>Urban</td>\n",
              "      <td>Y</td>\n",
              "    </tr>\n",
              "    <tr>\n",
              "      <th>3</th>\n",
              "      <td>LP001006</td>\n",
              "      <td>Male</td>\n",
              "      <td>Yes</td>\n",
              "      <td>0</td>\n",
              "      <td>Not Graduate</td>\n",
              "      <td>No</td>\n",
              "      <td>2583</td>\n",
              "      <td>2358.0</td>\n",
              "      <td>120.0</td>\n",
              "      <td>360.0</td>\n",
              "      <td>1.0</td>\n",
              "      <td>Urban</td>\n",
              "      <td>Y</td>\n",
              "    </tr>\n",
              "    <tr>\n",
              "      <th>4</th>\n",
              "      <td>LP001008</td>\n",
              "      <td>Male</td>\n",
              "      <td>No</td>\n",
              "      <td>0</td>\n",
              "      <td>Graduate</td>\n",
              "      <td>No</td>\n",
              "      <td>6000</td>\n",
              "      <td>0.0</td>\n",
              "      <td>141.0</td>\n",
              "      <td>360.0</td>\n",
              "      <td>1.0</td>\n",
              "      <td>Urban</td>\n",
              "      <td>Y</td>\n",
              "    </tr>\n",
              "  </tbody>\n",
              "</table>\n",
              "</div>\n",
              "      <button class=\"colab-df-convert\" onclick=\"convertToInteractive('df-b632bc8f-5532-493b-a023-4d8d15a92f71')\"\n",
              "              title=\"Convert this dataframe to an interactive table.\"\n",
              "              style=\"display:none;\">\n",
              "        \n",
              "  <svg xmlns=\"http://www.w3.org/2000/svg\" height=\"24px\"viewBox=\"0 0 24 24\"\n",
              "       width=\"24px\">\n",
              "    <path d=\"M0 0h24v24H0V0z\" fill=\"none\"/>\n",
              "    <path d=\"M18.56 5.44l.94 2.06.94-2.06 2.06-.94-2.06-.94-.94-2.06-.94 2.06-2.06.94zm-11 1L8.5 8.5l.94-2.06 2.06-.94-2.06-.94L8.5 2.5l-.94 2.06-2.06.94zm10 10l.94 2.06.94-2.06 2.06-.94-2.06-.94-.94-2.06-.94 2.06-2.06.94z\"/><path d=\"M17.41 7.96l-1.37-1.37c-.4-.4-.92-.59-1.43-.59-.52 0-1.04.2-1.43.59L10.3 9.45l-7.72 7.72c-.78.78-.78 2.05 0 2.83L4 21.41c.39.39.9.59 1.41.59.51 0 1.02-.2 1.41-.59l7.78-7.78 2.81-2.81c.8-.78.8-2.07 0-2.86zM5.41 20L4 18.59l7.72-7.72 1.47 1.35L5.41 20z\"/>\n",
              "  </svg>\n",
              "      </button>\n",
              "      \n",
              "  <style>\n",
              "    .colab-df-container {\n",
              "      display:flex;\n",
              "      flex-wrap:wrap;\n",
              "      gap: 12px;\n",
              "    }\n",
              "\n",
              "    .colab-df-convert {\n",
              "      background-color: #E8F0FE;\n",
              "      border: none;\n",
              "      border-radius: 50%;\n",
              "      cursor: pointer;\n",
              "      display: none;\n",
              "      fill: #1967D2;\n",
              "      height: 32px;\n",
              "      padding: 0 0 0 0;\n",
              "      width: 32px;\n",
              "    }\n",
              "\n",
              "    .colab-df-convert:hover {\n",
              "      background-color: #E2EBFA;\n",
              "      box-shadow: 0px 1px 2px rgba(60, 64, 67, 0.3), 0px 1px 3px 1px rgba(60, 64, 67, 0.15);\n",
              "      fill: #174EA6;\n",
              "    }\n",
              "\n",
              "    [theme=dark] .colab-df-convert {\n",
              "      background-color: #3B4455;\n",
              "      fill: #D2E3FC;\n",
              "    }\n",
              "\n",
              "    [theme=dark] .colab-df-convert:hover {\n",
              "      background-color: #434B5C;\n",
              "      box-shadow: 0px 1px 3px 1px rgba(0, 0, 0, 0.15);\n",
              "      filter: drop-shadow(0px 1px 2px rgba(0, 0, 0, 0.3));\n",
              "      fill: #FFFFFF;\n",
              "    }\n",
              "  </style>\n",
              "\n",
              "      <script>\n",
              "        const buttonEl =\n",
              "          document.querySelector('#df-b632bc8f-5532-493b-a023-4d8d15a92f71 button.colab-df-convert');\n",
              "        buttonEl.style.display =\n",
              "          google.colab.kernel.accessAllowed ? 'block' : 'none';\n",
              "\n",
              "        async function convertToInteractive(key) {\n",
              "          const element = document.querySelector('#df-b632bc8f-5532-493b-a023-4d8d15a92f71');\n",
              "          const dataTable =\n",
              "            await google.colab.kernel.invokeFunction('convertToInteractive',\n",
              "                                                     [key], {});\n",
              "          if (!dataTable) return;\n",
              "\n",
              "          const docLinkHtml = 'Like what you see? Visit the ' +\n",
              "            '<a target=\"_blank\" href=https://colab.research.google.com/notebooks/data_table.ipynb>data table notebook</a>'\n",
              "            + ' to learn more about interactive tables.';\n",
              "          element.innerHTML = '';\n",
              "          dataTable['output_type'] = 'display_data';\n",
              "          await google.colab.output.renderOutput(dataTable, element);\n",
              "          const docLink = document.createElement('div');\n",
              "          docLink.innerHTML = docLinkHtml;\n",
              "          element.appendChild(docLink);\n",
              "        }\n",
              "      </script>\n",
              "    </div>\n",
              "  </div>\n",
              "  "
            ]
          },
          "metadata": {},
          "execution_count": 5
        }
      ],
      "source": [
        "x_train.head()"
      ],
      "id": "086a3bea"
    },
    {
      "cell_type": "code",
      "execution_count": 6,
      "metadata": {
        "id": "dba7060a",
        "outputId": "32031ae3-3182-4bfa-9cf7-53f14f406ed3",
        "colab": {
          "base_uri": "https://localhost:8080/",
          "height": 206
        }
      },
      "outputs": [
        {
          "output_type": "execute_result",
          "data": {
            "text/plain": [
              "    Loan_ID Gender Married Dependents     Education Self_Employed  \\\n",
              "0  LP001015   Male     Yes          0      Graduate            No   \n",
              "1  LP001022   Male     Yes          1      Graduate            No   \n",
              "2  LP001031   Male     Yes          2      Graduate            No   \n",
              "3  LP001035   Male     Yes          2      Graduate            No   \n",
              "4  LP001051   Male      No          0  Not Graduate            No   \n",
              "\n",
              "   ApplicantIncome  CoapplicantIncome  LoanAmount  Loan_Amount_Term  \\\n",
              "0             5720                  0       110.0             360.0   \n",
              "1             3076               1500       126.0             360.0   \n",
              "2             5000               1800       208.0             360.0   \n",
              "3             2340               2546       100.0             360.0   \n",
              "4             3276                  0        78.0             360.0   \n",
              "\n",
              "   Credit_History Property_Area  \n",
              "0             1.0         Urban  \n",
              "1             1.0         Urban  \n",
              "2             1.0         Urban  \n",
              "3             NaN         Urban  \n",
              "4             1.0         Urban  "
            ],
            "text/html": [
              "\n",
              "  <div id=\"df-e90fab00-c5d2-45df-b1e4-a9a0c18be41a\">\n",
              "    <div class=\"colab-df-container\">\n",
              "      <div>\n",
              "<style scoped>\n",
              "    .dataframe tbody tr th:only-of-type {\n",
              "        vertical-align: middle;\n",
              "    }\n",
              "\n",
              "    .dataframe tbody tr th {\n",
              "        vertical-align: top;\n",
              "    }\n",
              "\n",
              "    .dataframe thead th {\n",
              "        text-align: right;\n",
              "    }\n",
              "</style>\n",
              "<table border=\"1\" class=\"dataframe\">\n",
              "  <thead>\n",
              "    <tr style=\"text-align: right;\">\n",
              "      <th></th>\n",
              "      <th>Loan_ID</th>\n",
              "      <th>Gender</th>\n",
              "      <th>Married</th>\n",
              "      <th>Dependents</th>\n",
              "      <th>Education</th>\n",
              "      <th>Self_Employed</th>\n",
              "      <th>ApplicantIncome</th>\n",
              "      <th>CoapplicantIncome</th>\n",
              "      <th>LoanAmount</th>\n",
              "      <th>Loan_Amount_Term</th>\n",
              "      <th>Credit_History</th>\n",
              "      <th>Property_Area</th>\n",
              "    </tr>\n",
              "  </thead>\n",
              "  <tbody>\n",
              "    <tr>\n",
              "      <th>0</th>\n",
              "      <td>LP001015</td>\n",
              "      <td>Male</td>\n",
              "      <td>Yes</td>\n",
              "      <td>0</td>\n",
              "      <td>Graduate</td>\n",
              "      <td>No</td>\n",
              "      <td>5720</td>\n",
              "      <td>0</td>\n",
              "      <td>110.0</td>\n",
              "      <td>360.0</td>\n",
              "      <td>1.0</td>\n",
              "      <td>Urban</td>\n",
              "    </tr>\n",
              "    <tr>\n",
              "      <th>1</th>\n",
              "      <td>LP001022</td>\n",
              "      <td>Male</td>\n",
              "      <td>Yes</td>\n",
              "      <td>1</td>\n",
              "      <td>Graduate</td>\n",
              "      <td>No</td>\n",
              "      <td>3076</td>\n",
              "      <td>1500</td>\n",
              "      <td>126.0</td>\n",
              "      <td>360.0</td>\n",
              "      <td>1.0</td>\n",
              "      <td>Urban</td>\n",
              "    </tr>\n",
              "    <tr>\n",
              "      <th>2</th>\n",
              "      <td>LP001031</td>\n",
              "      <td>Male</td>\n",
              "      <td>Yes</td>\n",
              "      <td>2</td>\n",
              "      <td>Graduate</td>\n",
              "      <td>No</td>\n",
              "      <td>5000</td>\n",
              "      <td>1800</td>\n",
              "      <td>208.0</td>\n",
              "      <td>360.0</td>\n",
              "      <td>1.0</td>\n",
              "      <td>Urban</td>\n",
              "    </tr>\n",
              "    <tr>\n",
              "      <th>3</th>\n",
              "      <td>LP001035</td>\n",
              "      <td>Male</td>\n",
              "      <td>Yes</td>\n",
              "      <td>2</td>\n",
              "      <td>Graduate</td>\n",
              "      <td>No</td>\n",
              "      <td>2340</td>\n",
              "      <td>2546</td>\n",
              "      <td>100.0</td>\n",
              "      <td>360.0</td>\n",
              "      <td>NaN</td>\n",
              "      <td>Urban</td>\n",
              "    </tr>\n",
              "    <tr>\n",
              "      <th>4</th>\n",
              "      <td>LP001051</td>\n",
              "      <td>Male</td>\n",
              "      <td>No</td>\n",
              "      <td>0</td>\n",
              "      <td>Not Graduate</td>\n",
              "      <td>No</td>\n",
              "      <td>3276</td>\n",
              "      <td>0</td>\n",
              "      <td>78.0</td>\n",
              "      <td>360.0</td>\n",
              "      <td>1.0</td>\n",
              "      <td>Urban</td>\n",
              "    </tr>\n",
              "  </tbody>\n",
              "</table>\n",
              "</div>\n",
              "      <button class=\"colab-df-convert\" onclick=\"convertToInteractive('df-e90fab00-c5d2-45df-b1e4-a9a0c18be41a')\"\n",
              "              title=\"Convert this dataframe to an interactive table.\"\n",
              "              style=\"display:none;\">\n",
              "        \n",
              "  <svg xmlns=\"http://www.w3.org/2000/svg\" height=\"24px\"viewBox=\"0 0 24 24\"\n",
              "       width=\"24px\">\n",
              "    <path d=\"M0 0h24v24H0V0z\" fill=\"none\"/>\n",
              "    <path d=\"M18.56 5.44l.94 2.06.94-2.06 2.06-.94-2.06-.94-.94-2.06-.94 2.06-2.06.94zm-11 1L8.5 8.5l.94-2.06 2.06-.94-2.06-.94L8.5 2.5l-.94 2.06-2.06.94zm10 10l.94 2.06.94-2.06 2.06-.94-2.06-.94-.94-2.06-.94 2.06-2.06.94z\"/><path d=\"M17.41 7.96l-1.37-1.37c-.4-.4-.92-.59-1.43-.59-.52 0-1.04.2-1.43.59L10.3 9.45l-7.72 7.72c-.78.78-.78 2.05 0 2.83L4 21.41c.39.39.9.59 1.41.59.51 0 1.02-.2 1.41-.59l7.78-7.78 2.81-2.81c.8-.78.8-2.07 0-2.86zM5.41 20L4 18.59l7.72-7.72 1.47 1.35L5.41 20z\"/>\n",
              "  </svg>\n",
              "      </button>\n",
              "      \n",
              "  <style>\n",
              "    .colab-df-container {\n",
              "      display:flex;\n",
              "      flex-wrap:wrap;\n",
              "      gap: 12px;\n",
              "    }\n",
              "\n",
              "    .colab-df-convert {\n",
              "      background-color: #E8F0FE;\n",
              "      border: none;\n",
              "      border-radius: 50%;\n",
              "      cursor: pointer;\n",
              "      display: none;\n",
              "      fill: #1967D2;\n",
              "      height: 32px;\n",
              "      padding: 0 0 0 0;\n",
              "      width: 32px;\n",
              "    }\n",
              "\n",
              "    .colab-df-convert:hover {\n",
              "      background-color: #E2EBFA;\n",
              "      box-shadow: 0px 1px 2px rgba(60, 64, 67, 0.3), 0px 1px 3px 1px rgba(60, 64, 67, 0.15);\n",
              "      fill: #174EA6;\n",
              "    }\n",
              "\n",
              "    [theme=dark] .colab-df-convert {\n",
              "      background-color: #3B4455;\n",
              "      fill: #D2E3FC;\n",
              "    }\n",
              "\n",
              "    [theme=dark] .colab-df-convert:hover {\n",
              "      background-color: #434B5C;\n",
              "      box-shadow: 0px 1px 3px 1px rgba(0, 0, 0, 0.15);\n",
              "      filter: drop-shadow(0px 1px 2px rgba(0, 0, 0, 0.3));\n",
              "      fill: #FFFFFF;\n",
              "    }\n",
              "  </style>\n",
              "\n",
              "      <script>\n",
              "        const buttonEl =\n",
              "          document.querySelector('#df-e90fab00-c5d2-45df-b1e4-a9a0c18be41a button.colab-df-convert');\n",
              "        buttonEl.style.display =\n",
              "          google.colab.kernel.accessAllowed ? 'block' : 'none';\n",
              "\n",
              "        async function convertToInteractive(key) {\n",
              "          const element = document.querySelector('#df-e90fab00-c5d2-45df-b1e4-a9a0c18be41a');\n",
              "          const dataTable =\n",
              "            await google.colab.kernel.invokeFunction('convertToInteractive',\n",
              "                                                     [key], {});\n",
              "          if (!dataTable) return;\n",
              "\n",
              "          const docLinkHtml = 'Like what you see? Visit the ' +\n",
              "            '<a target=\"_blank\" href=https://colab.research.google.com/notebooks/data_table.ipynb>data table notebook</a>'\n",
              "            + ' to learn more about interactive tables.';\n",
              "          element.innerHTML = '';\n",
              "          dataTable['output_type'] = 'display_data';\n",
              "          await google.colab.output.renderOutput(dataTable, element);\n",
              "          const docLink = document.createElement('div');\n",
              "          docLink.innerHTML = docLinkHtml;\n",
              "          element.appendChild(docLink);\n",
              "        }\n",
              "      </script>\n",
              "    </div>\n",
              "  </div>\n",
              "  "
            ]
          },
          "metadata": {},
          "execution_count": 6
        }
      ],
      "source": [
        "x_test.head()"
      ],
      "id": "dba7060a"
    },
    {
      "cell_type": "code",
      "execution_count": 7,
      "metadata": {
        "id": "04e4174b",
        "outputId": "872f2853-e617-4b6e-9b56-a1cd9741aad2",
        "colab": {
          "base_uri": "https://localhost:8080/"
        }
      },
      "outputs": [
        {
          "output_type": "execute_result",
          "data": {
            "text/plain": [
              "Index(['Loan_ID', 'Gender', 'Married', 'Dependents', 'Education',\n",
              "       'Self_Employed', 'ApplicantIncome', 'CoapplicantIncome', 'LoanAmount',\n",
              "       'Loan_Amount_Term', 'Credit_History', 'Property_Area', 'Loan_Status'],\n",
              "      dtype='object')"
            ]
          },
          "metadata": {},
          "execution_count": 7
        }
      ],
      "source": [
        "x_train.columns"
      ],
      "id": "04e4174b"
    },
    {
      "cell_type": "code",
      "execution_count": 8,
      "metadata": {
        "id": "b5869cb1",
        "outputId": "56d02b01-9a28-4ede-f998-b5e4aecbe8c5",
        "colab": {
          "base_uri": "https://localhost:8080/",
          "height": 300
        }
      },
      "outputs": [
        {
          "output_type": "execute_result",
          "data": {
            "text/plain": [
              "       ApplicantIncome  CoapplicantIncome  LoanAmount  Loan_Amount_Term  \\\n",
              "count       614.000000         614.000000  592.000000         600.00000   \n",
              "mean       5403.459283        1621.245798  146.412162         342.00000   \n",
              "std        6109.041673        2926.248369   85.587325          65.12041   \n",
              "min         150.000000           0.000000    9.000000          12.00000   \n",
              "25%        2877.500000           0.000000  100.000000         360.00000   \n",
              "50%        3812.500000        1188.500000  128.000000         360.00000   \n",
              "75%        5795.000000        2297.250000  168.000000         360.00000   \n",
              "max       81000.000000       41667.000000  700.000000         480.00000   \n",
              "\n",
              "       Credit_History  \n",
              "count      564.000000  \n",
              "mean         0.842199  \n",
              "std          0.364878  \n",
              "min          0.000000  \n",
              "25%          1.000000  \n",
              "50%          1.000000  \n",
              "75%          1.000000  \n",
              "max          1.000000  "
            ],
            "text/html": [
              "\n",
              "  <div id=\"df-7108f9c9-6899-4b14-9e75-45e2fdef5da4\">\n",
              "    <div class=\"colab-df-container\">\n",
              "      <div>\n",
              "<style scoped>\n",
              "    .dataframe tbody tr th:only-of-type {\n",
              "        vertical-align: middle;\n",
              "    }\n",
              "\n",
              "    .dataframe tbody tr th {\n",
              "        vertical-align: top;\n",
              "    }\n",
              "\n",
              "    .dataframe thead th {\n",
              "        text-align: right;\n",
              "    }\n",
              "</style>\n",
              "<table border=\"1\" class=\"dataframe\">\n",
              "  <thead>\n",
              "    <tr style=\"text-align: right;\">\n",
              "      <th></th>\n",
              "      <th>ApplicantIncome</th>\n",
              "      <th>CoapplicantIncome</th>\n",
              "      <th>LoanAmount</th>\n",
              "      <th>Loan_Amount_Term</th>\n",
              "      <th>Credit_History</th>\n",
              "    </tr>\n",
              "  </thead>\n",
              "  <tbody>\n",
              "    <tr>\n",
              "      <th>count</th>\n",
              "      <td>614.000000</td>\n",
              "      <td>614.000000</td>\n",
              "      <td>592.000000</td>\n",
              "      <td>600.00000</td>\n",
              "      <td>564.000000</td>\n",
              "    </tr>\n",
              "    <tr>\n",
              "      <th>mean</th>\n",
              "      <td>5403.459283</td>\n",
              "      <td>1621.245798</td>\n",
              "      <td>146.412162</td>\n",
              "      <td>342.00000</td>\n",
              "      <td>0.842199</td>\n",
              "    </tr>\n",
              "    <tr>\n",
              "      <th>std</th>\n",
              "      <td>6109.041673</td>\n",
              "      <td>2926.248369</td>\n",
              "      <td>85.587325</td>\n",
              "      <td>65.12041</td>\n",
              "      <td>0.364878</td>\n",
              "    </tr>\n",
              "    <tr>\n",
              "      <th>min</th>\n",
              "      <td>150.000000</td>\n",
              "      <td>0.000000</td>\n",
              "      <td>9.000000</td>\n",
              "      <td>12.00000</td>\n",
              "      <td>0.000000</td>\n",
              "    </tr>\n",
              "    <tr>\n",
              "      <th>25%</th>\n",
              "      <td>2877.500000</td>\n",
              "      <td>0.000000</td>\n",
              "      <td>100.000000</td>\n",
              "      <td>360.00000</td>\n",
              "      <td>1.000000</td>\n",
              "    </tr>\n",
              "    <tr>\n",
              "      <th>50%</th>\n",
              "      <td>3812.500000</td>\n",
              "      <td>1188.500000</td>\n",
              "      <td>128.000000</td>\n",
              "      <td>360.00000</td>\n",
              "      <td>1.000000</td>\n",
              "    </tr>\n",
              "    <tr>\n",
              "      <th>75%</th>\n",
              "      <td>5795.000000</td>\n",
              "      <td>2297.250000</td>\n",
              "      <td>168.000000</td>\n",
              "      <td>360.00000</td>\n",
              "      <td>1.000000</td>\n",
              "    </tr>\n",
              "    <tr>\n",
              "      <th>max</th>\n",
              "      <td>81000.000000</td>\n",
              "      <td>41667.000000</td>\n",
              "      <td>700.000000</td>\n",
              "      <td>480.00000</td>\n",
              "      <td>1.000000</td>\n",
              "    </tr>\n",
              "  </tbody>\n",
              "</table>\n",
              "</div>\n",
              "      <button class=\"colab-df-convert\" onclick=\"convertToInteractive('df-7108f9c9-6899-4b14-9e75-45e2fdef5da4')\"\n",
              "              title=\"Convert this dataframe to an interactive table.\"\n",
              "              style=\"display:none;\">\n",
              "        \n",
              "  <svg xmlns=\"http://www.w3.org/2000/svg\" height=\"24px\"viewBox=\"0 0 24 24\"\n",
              "       width=\"24px\">\n",
              "    <path d=\"M0 0h24v24H0V0z\" fill=\"none\"/>\n",
              "    <path d=\"M18.56 5.44l.94 2.06.94-2.06 2.06-.94-2.06-.94-.94-2.06-.94 2.06-2.06.94zm-11 1L8.5 8.5l.94-2.06 2.06-.94-2.06-.94L8.5 2.5l-.94 2.06-2.06.94zm10 10l.94 2.06.94-2.06 2.06-.94-2.06-.94-.94-2.06-.94 2.06-2.06.94z\"/><path d=\"M17.41 7.96l-1.37-1.37c-.4-.4-.92-.59-1.43-.59-.52 0-1.04.2-1.43.59L10.3 9.45l-7.72 7.72c-.78.78-.78 2.05 0 2.83L4 21.41c.39.39.9.59 1.41.59.51 0 1.02-.2 1.41-.59l7.78-7.78 2.81-2.81c.8-.78.8-2.07 0-2.86zM5.41 20L4 18.59l7.72-7.72 1.47 1.35L5.41 20z\"/>\n",
              "  </svg>\n",
              "      </button>\n",
              "      \n",
              "  <style>\n",
              "    .colab-df-container {\n",
              "      display:flex;\n",
              "      flex-wrap:wrap;\n",
              "      gap: 12px;\n",
              "    }\n",
              "\n",
              "    .colab-df-convert {\n",
              "      background-color: #E8F0FE;\n",
              "      border: none;\n",
              "      border-radius: 50%;\n",
              "      cursor: pointer;\n",
              "      display: none;\n",
              "      fill: #1967D2;\n",
              "      height: 32px;\n",
              "      padding: 0 0 0 0;\n",
              "      width: 32px;\n",
              "    }\n",
              "\n",
              "    .colab-df-convert:hover {\n",
              "      background-color: #E2EBFA;\n",
              "      box-shadow: 0px 1px 2px rgba(60, 64, 67, 0.3), 0px 1px 3px 1px rgba(60, 64, 67, 0.15);\n",
              "      fill: #174EA6;\n",
              "    }\n",
              "\n",
              "    [theme=dark] .colab-df-convert {\n",
              "      background-color: #3B4455;\n",
              "      fill: #D2E3FC;\n",
              "    }\n",
              "\n",
              "    [theme=dark] .colab-df-convert:hover {\n",
              "      background-color: #434B5C;\n",
              "      box-shadow: 0px 1px 3px 1px rgba(0, 0, 0, 0.15);\n",
              "      filter: drop-shadow(0px 1px 2px rgba(0, 0, 0, 0.3));\n",
              "      fill: #FFFFFF;\n",
              "    }\n",
              "  </style>\n",
              "\n",
              "      <script>\n",
              "        const buttonEl =\n",
              "          document.querySelector('#df-7108f9c9-6899-4b14-9e75-45e2fdef5da4 button.colab-df-convert');\n",
              "        buttonEl.style.display =\n",
              "          google.colab.kernel.accessAllowed ? 'block' : 'none';\n",
              "\n",
              "        async function convertToInteractive(key) {\n",
              "          const element = document.querySelector('#df-7108f9c9-6899-4b14-9e75-45e2fdef5da4');\n",
              "          const dataTable =\n",
              "            await google.colab.kernel.invokeFunction('convertToInteractive',\n",
              "                                                     [key], {});\n",
              "          if (!dataTable) return;\n",
              "\n",
              "          const docLinkHtml = 'Like what you see? Visit the ' +\n",
              "            '<a target=\"_blank\" href=https://colab.research.google.com/notebooks/data_table.ipynb>data table notebook</a>'\n",
              "            + ' to learn more about interactive tables.';\n",
              "          element.innerHTML = '';\n",
              "          dataTable['output_type'] = 'display_data';\n",
              "          await google.colab.output.renderOutput(dataTable, element);\n",
              "          const docLink = document.createElement('div');\n",
              "          docLink.innerHTML = docLinkHtml;\n",
              "          element.appendChild(docLink);\n",
              "        }\n",
              "      </script>\n",
              "    </div>\n",
              "  </div>\n",
              "  "
            ]
          },
          "metadata": {},
          "execution_count": 8
        }
      ],
      "source": [
        "x_train.describe()"
      ],
      "id": "b5869cb1"
    },
    {
      "cell_type": "code",
      "execution_count": 9,
      "metadata": {
        "id": "df893736",
        "outputId": "4d533357-4992-4b87-d13b-95787edc9bb7",
        "colab": {
          "base_uri": "https://localhost:8080/",
          "height": 300
        }
      },
      "outputs": [
        {
          "output_type": "execute_result",
          "data": {
            "text/plain": [
              "       ApplicantIncome  CoapplicantIncome  LoanAmount  Loan_Amount_Term  \\\n",
              "count       367.000000         367.000000  362.000000        361.000000   \n",
              "mean       4805.599455        1569.577657  136.132597        342.537396   \n",
              "std        4910.685399        2334.232099   61.366652         65.156643   \n",
              "min           0.000000           0.000000   28.000000          6.000000   \n",
              "25%        2864.000000           0.000000  100.250000        360.000000   \n",
              "50%        3786.000000        1025.000000  125.000000        360.000000   \n",
              "75%        5060.000000        2430.500000  158.000000        360.000000   \n",
              "max       72529.000000       24000.000000  550.000000        480.000000   \n",
              "\n",
              "       Credit_History  \n",
              "count      338.000000  \n",
              "mean         0.825444  \n",
              "std          0.380150  \n",
              "min          0.000000  \n",
              "25%          1.000000  \n",
              "50%          1.000000  \n",
              "75%          1.000000  \n",
              "max          1.000000  "
            ],
            "text/html": [
              "\n",
              "  <div id=\"df-3d02dc7b-b715-45af-ad06-d9dd960159f3\">\n",
              "    <div class=\"colab-df-container\">\n",
              "      <div>\n",
              "<style scoped>\n",
              "    .dataframe tbody tr th:only-of-type {\n",
              "        vertical-align: middle;\n",
              "    }\n",
              "\n",
              "    .dataframe tbody tr th {\n",
              "        vertical-align: top;\n",
              "    }\n",
              "\n",
              "    .dataframe thead th {\n",
              "        text-align: right;\n",
              "    }\n",
              "</style>\n",
              "<table border=\"1\" class=\"dataframe\">\n",
              "  <thead>\n",
              "    <tr style=\"text-align: right;\">\n",
              "      <th></th>\n",
              "      <th>ApplicantIncome</th>\n",
              "      <th>CoapplicantIncome</th>\n",
              "      <th>LoanAmount</th>\n",
              "      <th>Loan_Amount_Term</th>\n",
              "      <th>Credit_History</th>\n",
              "    </tr>\n",
              "  </thead>\n",
              "  <tbody>\n",
              "    <tr>\n",
              "      <th>count</th>\n",
              "      <td>367.000000</td>\n",
              "      <td>367.000000</td>\n",
              "      <td>362.000000</td>\n",
              "      <td>361.000000</td>\n",
              "      <td>338.000000</td>\n",
              "    </tr>\n",
              "    <tr>\n",
              "      <th>mean</th>\n",
              "      <td>4805.599455</td>\n",
              "      <td>1569.577657</td>\n",
              "      <td>136.132597</td>\n",
              "      <td>342.537396</td>\n",
              "      <td>0.825444</td>\n",
              "    </tr>\n",
              "    <tr>\n",
              "      <th>std</th>\n",
              "      <td>4910.685399</td>\n",
              "      <td>2334.232099</td>\n",
              "      <td>61.366652</td>\n",
              "      <td>65.156643</td>\n",
              "      <td>0.380150</td>\n",
              "    </tr>\n",
              "    <tr>\n",
              "      <th>min</th>\n",
              "      <td>0.000000</td>\n",
              "      <td>0.000000</td>\n",
              "      <td>28.000000</td>\n",
              "      <td>6.000000</td>\n",
              "      <td>0.000000</td>\n",
              "    </tr>\n",
              "    <tr>\n",
              "      <th>25%</th>\n",
              "      <td>2864.000000</td>\n",
              "      <td>0.000000</td>\n",
              "      <td>100.250000</td>\n",
              "      <td>360.000000</td>\n",
              "      <td>1.000000</td>\n",
              "    </tr>\n",
              "    <tr>\n",
              "      <th>50%</th>\n",
              "      <td>3786.000000</td>\n",
              "      <td>1025.000000</td>\n",
              "      <td>125.000000</td>\n",
              "      <td>360.000000</td>\n",
              "      <td>1.000000</td>\n",
              "    </tr>\n",
              "    <tr>\n",
              "      <th>75%</th>\n",
              "      <td>5060.000000</td>\n",
              "      <td>2430.500000</td>\n",
              "      <td>158.000000</td>\n",
              "      <td>360.000000</td>\n",
              "      <td>1.000000</td>\n",
              "    </tr>\n",
              "    <tr>\n",
              "      <th>max</th>\n",
              "      <td>72529.000000</td>\n",
              "      <td>24000.000000</td>\n",
              "      <td>550.000000</td>\n",
              "      <td>480.000000</td>\n",
              "      <td>1.000000</td>\n",
              "    </tr>\n",
              "  </tbody>\n",
              "</table>\n",
              "</div>\n",
              "      <button class=\"colab-df-convert\" onclick=\"convertToInteractive('df-3d02dc7b-b715-45af-ad06-d9dd960159f3')\"\n",
              "              title=\"Convert this dataframe to an interactive table.\"\n",
              "              style=\"display:none;\">\n",
              "        \n",
              "  <svg xmlns=\"http://www.w3.org/2000/svg\" height=\"24px\"viewBox=\"0 0 24 24\"\n",
              "       width=\"24px\">\n",
              "    <path d=\"M0 0h24v24H0V0z\" fill=\"none\"/>\n",
              "    <path d=\"M18.56 5.44l.94 2.06.94-2.06 2.06-.94-2.06-.94-.94-2.06-.94 2.06-2.06.94zm-11 1L8.5 8.5l.94-2.06 2.06-.94-2.06-.94L8.5 2.5l-.94 2.06-2.06.94zm10 10l.94 2.06.94-2.06 2.06-.94-2.06-.94-.94-2.06-.94 2.06-2.06.94z\"/><path d=\"M17.41 7.96l-1.37-1.37c-.4-.4-.92-.59-1.43-.59-.52 0-1.04.2-1.43.59L10.3 9.45l-7.72 7.72c-.78.78-.78 2.05 0 2.83L4 21.41c.39.39.9.59 1.41.59.51 0 1.02-.2 1.41-.59l7.78-7.78 2.81-2.81c.8-.78.8-2.07 0-2.86zM5.41 20L4 18.59l7.72-7.72 1.47 1.35L5.41 20z\"/>\n",
              "  </svg>\n",
              "      </button>\n",
              "      \n",
              "  <style>\n",
              "    .colab-df-container {\n",
              "      display:flex;\n",
              "      flex-wrap:wrap;\n",
              "      gap: 12px;\n",
              "    }\n",
              "\n",
              "    .colab-df-convert {\n",
              "      background-color: #E8F0FE;\n",
              "      border: none;\n",
              "      border-radius: 50%;\n",
              "      cursor: pointer;\n",
              "      display: none;\n",
              "      fill: #1967D2;\n",
              "      height: 32px;\n",
              "      padding: 0 0 0 0;\n",
              "      width: 32px;\n",
              "    }\n",
              "\n",
              "    .colab-df-convert:hover {\n",
              "      background-color: #E2EBFA;\n",
              "      box-shadow: 0px 1px 2px rgba(60, 64, 67, 0.3), 0px 1px 3px 1px rgba(60, 64, 67, 0.15);\n",
              "      fill: #174EA6;\n",
              "    }\n",
              "\n",
              "    [theme=dark] .colab-df-convert {\n",
              "      background-color: #3B4455;\n",
              "      fill: #D2E3FC;\n",
              "    }\n",
              "\n",
              "    [theme=dark] .colab-df-convert:hover {\n",
              "      background-color: #434B5C;\n",
              "      box-shadow: 0px 1px 3px 1px rgba(0, 0, 0, 0.15);\n",
              "      filter: drop-shadow(0px 1px 2px rgba(0, 0, 0, 0.3));\n",
              "      fill: #FFFFFF;\n",
              "    }\n",
              "  </style>\n",
              "\n",
              "      <script>\n",
              "        const buttonEl =\n",
              "          document.querySelector('#df-3d02dc7b-b715-45af-ad06-d9dd960159f3 button.colab-df-convert');\n",
              "        buttonEl.style.display =\n",
              "          google.colab.kernel.accessAllowed ? 'block' : 'none';\n",
              "\n",
              "        async function convertToInteractive(key) {\n",
              "          const element = document.querySelector('#df-3d02dc7b-b715-45af-ad06-d9dd960159f3');\n",
              "          const dataTable =\n",
              "            await google.colab.kernel.invokeFunction('convertToInteractive',\n",
              "                                                     [key], {});\n",
              "          if (!dataTable) return;\n",
              "\n",
              "          const docLinkHtml = 'Like what you see? Visit the ' +\n",
              "            '<a target=\"_blank\" href=https://colab.research.google.com/notebooks/data_table.ipynb>data table notebook</a>'\n",
              "            + ' to learn more about interactive tables.';\n",
              "          element.innerHTML = '';\n",
              "          dataTable['output_type'] = 'display_data';\n",
              "          await google.colab.output.renderOutput(dataTable, element);\n",
              "          const docLink = document.createElement('div');\n",
              "          docLink.innerHTML = docLinkHtml;\n",
              "          element.appendChild(docLink);\n",
              "        }\n",
              "      </script>\n",
              "    </div>\n",
              "  </div>\n",
              "  "
            ]
          },
          "metadata": {},
          "execution_count": 9
        }
      ],
      "source": [
        "x_test.describe()"
      ],
      "id": "df893736"
    },
    {
      "cell_type": "raw",
      "metadata": {
        "id": "975316ca"
      },
      "source": [
        "**SUMMARY OF THE FEATURES:**\n",
        "\n",
        "Loan_ID is not a feature.so we drop the column.\n",
        "\n",
        "Gender is binary variable feature we encode this with label encoding.\n",
        "\n",
        "Married is also a binary variable feature we encode this with label encoding.\n",
        "\n",
        "Dependents is a multiclass feature.we will decide after EDA part which encode is suitable for this.\n",
        "\n",
        "Education is binary class over here we will go with label encoding.\n",
        "\n",
        "Self_Employed is also a binary class variable will go with label encoding.\n",
        "\n",
        "ApplicantIncome is a continuous variable no encoding is needed.\n",
        "\n",
        "CoapplicantIncome is also a continuous variable no encoding is needed.\n",
        "\n",
        "LoanAmount is also a continuous variable no encoding is needed.\n",
        "\n",
        "Loan_Amount_Term is also a continuous variable no encoding is needed.\n",
        "\n",
        "Credit_History is also a continuous variable no encoding is needed.\n",
        "\n",
        "Property_Area is a multiclass variable. After EDA part will decide lable or onhot.\n",
        "\n",
        "Loan_Status is a binary variable.We will go with lable encoding.\n"
      ],
      "id": "975316ca"
    },
    {
      "cell_type": "markdown",
      "metadata": {
        "id": "287d2286"
      },
      "source": [
        "# CHECKING IS THERE ANY NULL IN DATASETS"
      ],
      "id": "287d2286"
    },
    {
      "cell_type": "code",
      "execution_count": 10,
      "metadata": {
        "id": "fb8290ff",
        "outputId": "b49fe2f1-ed37-494b-8a6b-52f79c39d485",
        "colab": {
          "base_uri": "https://localhost:8080/"
        }
      },
      "outputs": [
        {
          "output_type": "execute_result",
          "data": {
            "text/plain": [
              "(614, 13)"
            ]
          },
          "metadata": {},
          "execution_count": 10
        }
      ],
      "source": [
        "x_train.isnull().sum()\n",
        "x_train.shape"
      ],
      "id": "fb8290ff"
    },
    {
      "cell_type": "markdown",
      "source": [
        "we will impute using mode for gender and married.\n",
        "\n",
        "we will immpute using mean for Loanamount and loanamount term.\n",
        "\n",
        "we drop nan from dependents,selfemployed and credit history"
      ],
      "metadata": {
        "id": "s-IC4-4droWR"
      },
      "id": "s-IC4-4droWR"
    },
    {
      "cell_type": "code",
      "execution_count": 11,
      "metadata": {
        "id": "a9ed5fb1",
        "outputId": "660cf83d-11aa-487d-8e92-9c8df56f8311",
        "colab": {
          "base_uri": "https://localhost:8080/"
        }
      },
      "outputs": [
        {
          "output_type": "execute_result",
          "data": {
            "text/plain": [
              "Loan_ID               0\n",
              "Gender               11\n",
              "Married               0\n",
              "Dependents           10\n",
              "Education             0\n",
              "Self_Employed        23\n",
              "ApplicantIncome       0\n",
              "CoapplicantIncome     0\n",
              "LoanAmount            5\n",
              "Loan_Amount_Term      6\n",
              "Credit_History       29\n",
              "Property_Area         0\n",
              "dtype: int64"
            ]
          },
          "metadata": {},
          "execution_count": 11
        }
      ],
      "source": [
        "x_test.isnull().sum()"
      ],
      "id": "a9ed5fb1"
    },
    {
      "cell_type": "markdown",
      "source": [
        "we will impute using mode for gender.\n",
        "\n",
        "we will immpute using mean for Loanamount and loanamount term.\n",
        "\n",
        "we drop nan from dependents,selfemployed and credit history"
      ],
      "metadata": {
        "id": "z5ruVKKNrsWG"
      },
      "id": "z5ruVKKNrsWG"
    },
    {
      "cell_type": "code",
      "execution_count": 11,
      "metadata": {
        "id": "d683b69e"
      },
      "outputs": [],
      "source": [],
      "id": "d683b69e"
    },
    {
      "cell_type": "markdown",
      "metadata": {
        "id": "8faca532"
      },
      "source": [
        "# Loan_ID"
      ],
      "id": "8faca532"
    },
    {
      "cell_type": "code",
      "execution_count": 12,
      "metadata": {
        "id": "6d0b3c9b"
      },
      "outputs": [],
      "source": [
        "x_train=x_train.drop(['Loan_ID'],axis=1)\n",
        "x_test=x_test.drop(['Loan_ID'],axis=1)"
      ],
      "id": "6d0b3c9b"
    },
    {
      "cell_type": "markdown",
      "source": [
        "Here, We dropped the loand_id column in both x_train and x_test."
      ],
      "metadata": {
        "id": "zo8rjYlErzOw"
      },
      "id": "zo8rjYlErzOw"
    },
    {
      "cell_type": "markdown",
      "metadata": {
        "id": "a3c97535"
      },
      "source": [
        "# Gender"
      ],
      "id": "a3c97535"
    },
    {
      "cell_type": "code",
      "execution_count": null,
      "metadata": {
        "id": "7032de4b",
        "outputId": "cd7e09a1-5a74-437d-cfbf-c4b5a8c3640c",
        "colab": {
          "base_uri": "https://localhost:8080/"
        }
      },
      "outputs": [
        {
          "output_type": "execute_result",
          "data": {
            "text/plain": [
              "(0    Male\n",
              " dtype: object, 0    Male\n",
              " dtype: object)"
            ]
          },
          "metadata": {},
          "execution_count": 53
        }
      ],
      "source": [
        "x=x_train['Gender'].mode()\n",
        "y=x_test['Gender'].mode()\n",
        "x,y"
      ],
      "id": "7032de4b"
    },
    {
      "cell_type": "code",
      "execution_count": 13,
      "metadata": {
        "id": "1d037ff8",
        "outputId": "b16c772e-254d-4bae-ae89-38c91f017af1",
        "colab": {
          "base_uri": "https://localhost:8080/"
        }
      },
      "outputs": [
        {
          "output_type": "execute_result",
          "data": {
            "text/plain": [
              "(array(['Male', 'Female'], dtype=object),\n",
              " array(['Male', 'Female'], dtype=object))"
            ]
          },
          "metadata": {},
          "execution_count": 13
        }
      ],
      "source": [
        "x_train['Gender']=x_train['Gender'].fillna('Male')\n",
        "x=x_train['Gender'].unique()\n",
        "x_test['Gender']=x_test['Gender'].fillna('Male')\n",
        "y=x_test['Gender'].unique()\n",
        "x,y"
      ],
      "id": "1d037ff8"
    },
    {
      "cell_type": "markdown",
      "source": [
        "Here, We imputed gender column in both x_train and x_test."
      ],
      "metadata": {
        "id": "BOMAbtZFr22Q"
      },
      "id": "BOMAbtZFr22Q"
    },
    {
      "cell_type": "markdown",
      "metadata": {
        "id": "e5e77a46"
      },
      "source": [
        "# Married"
      ],
      "id": "e5e77a46"
    },
    {
      "cell_type": "code",
      "execution_count": 14,
      "metadata": {
        "colab": {
          "base_uri": "https://localhost:8080/"
        },
        "id": "b4679e24",
        "outputId": "56ab33bc-7fa8-45c4-a78b-3ce0e86f19e7"
      },
      "outputs": [
        {
          "output_type": "execute_result",
          "data": {
            "text/plain": [
              "0    Yes\n",
              "dtype: object"
            ]
          },
          "metadata": {},
          "execution_count": 14
        }
      ],
      "source": [
        "x=x_train['Married'].mode()\n",
        "x"
      ],
      "id": "b4679e24"
    },
    {
      "cell_type": "code",
      "execution_count": 15,
      "metadata": {
        "colab": {
          "base_uri": "https://localhost:8080/"
        },
        "id": "a0aef85e",
        "outputId": "5b266ed8-5436-4471-c1ba-0600da2cadaf"
      },
      "outputs": [
        {
          "output_type": "execute_result",
          "data": {
            "text/plain": [
              "array(['No', 'Yes'], dtype=object)"
            ]
          },
          "metadata": {},
          "execution_count": 15
        }
      ],
      "source": [
        "x_train['Married']=x_train['Married'].fillna('Yes')\n",
        "x_train['Married'].unique()"
      ],
      "id": "a0aef85e"
    },
    {
      "cell_type": "markdown",
      "source": [
        "Here, We imputed married column in x_train."
      ],
      "metadata": {
        "id": "jL6-fv1mr7G0"
      },
      "id": "jL6-fv1mr7G0"
    },
    {
      "cell_type": "markdown",
      "metadata": {
        "id": "4e979860"
      },
      "source": [
        "# LoanAmount"
      ],
      "id": "4e979860"
    },
    {
      "cell_type": "code",
      "source": [
        "x=x_train['LoanAmount'].mean()\n",
        "y=x_test['LoanAmount'].mean()\n",
        "x,y"
      ],
      "metadata": {
        "colab": {
          "base_uri": "https://localhost:8080/"
        },
        "id": "2aPsgEOButPF",
        "outputId": "46961981-8908-4fc8-b6ba-24cc5d880501"
      },
      "id": "2aPsgEOButPF",
      "execution_count": 16,
      "outputs": [
        {
          "output_type": "execute_result",
          "data": {
            "text/plain": [
              "(146.41216216216216, 136.13259668508286)"
            ]
          },
          "metadata": {},
          "execution_count": 16
        }
      ]
    },
    {
      "cell_type": "code",
      "execution_count": 17,
      "metadata": {
        "id": "e60c769a"
      },
      "outputs": [],
      "source": [
        "x_train['LoanAmount']=x_train['LoanAmount'].fillna(x)\n",
        "x_test['LoanAmount']=x_test['LoanAmount'].fillna(y)"
      ],
      "id": "e60c769a"
    },
    {
      "cell_type": "markdown",
      "metadata": {
        "id": "1c6a19be"
      },
      "source": [
        "# Loan_Amount_Term      "
      ],
      "id": "1c6a19be"
    },
    {
      "cell_type": "code",
      "execution_count": 18,
      "metadata": {
        "id": "4ffbd8e5",
        "outputId": "979fb7db-cb32-458c-b5b7-f902a3d3c56a",
        "colab": {
          "base_uri": "https://localhost:8080/"
        }
      },
      "outputs": [
        {
          "output_type": "execute_result",
          "data": {
            "text/plain": [
              "(342.0, 342.53739612188366)"
            ]
          },
          "metadata": {},
          "execution_count": 18
        }
      ],
      "source": [
        "x=x_train['Loan_Amount_Term'].mean()\n",
        "y=x_test['Loan_Amount_Term'].mean()\n",
        "x,y"
      ],
      "id": "4ffbd8e5"
    },
    {
      "cell_type": "code",
      "execution_count": 19,
      "metadata": {
        "id": "566c0a31"
      },
      "outputs": [],
      "source": [
        "x_train['Loan_Amount_Term']=x_train['Loan_Amount_Term'].fillna(x)\n",
        "x_test['Loan_Amount_Term']=x_test['Loan_Amount_Term'].fillna(y)"
      ],
      "id": "566c0a31"
    },
    {
      "cell_type": "code",
      "execution_count": 20,
      "metadata": {
        "id": "606d5df9"
      },
      "outputs": [],
      "source": [
        "x_train=x_train.dropna()\n",
        "x_test=x_test.dropna()"
      ],
      "id": "606d5df9"
    },
    {
      "cell_type": "code",
      "execution_count": 21,
      "metadata": {
        "id": "c197fe03",
        "outputId": "8bcc3605-cb5e-42d8-b647-8dc4f47e47c6",
        "colab": {
          "base_uri": "https://localhost:8080/"
        }
      },
      "outputs": [
        {
          "output_type": "execute_result",
          "data": {
            "text/plain": [
              "Gender               0\n",
              "Married              0\n",
              "Dependents           0\n",
              "Education            0\n",
              "Self_Employed        0\n",
              "ApplicantIncome      0\n",
              "CoapplicantIncome    0\n",
              "LoanAmount           0\n",
              "Loan_Amount_Term     0\n",
              "Credit_History       0\n",
              "Property_Area        0\n",
              "Loan_Status          0\n",
              "dtype: int64"
            ]
          },
          "metadata": {},
          "execution_count": 21
        }
      ],
      "source": [
        "x_train.isnull().sum()"
      ],
      "id": "c197fe03"
    },
    {
      "cell_type": "code",
      "execution_count": 22,
      "metadata": {
        "id": "7e160b87",
        "outputId": "e0c74f1e-344e-4a84-f67a-1d8ab902a3dd",
        "colab": {
          "base_uri": "https://localhost:8080/"
        }
      },
      "outputs": [
        {
          "output_type": "execute_result",
          "data": {
            "text/plain": [
              "Gender               0\n",
              "Married              0\n",
              "Dependents           0\n",
              "Education            0\n",
              "Self_Employed        0\n",
              "ApplicantIncome      0\n",
              "CoapplicantIncome    0\n",
              "LoanAmount           0\n",
              "Loan_Amount_Term     0\n",
              "Credit_History       0\n",
              "Property_Area        0\n",
              "dtype: int64"
            ]
          },
          "metadata": {},
          "execution_count": 22
        }
      ],
      "source": [
        "x_test.isnull().sum()"
      ],
      "id": "7e160b87"
    },
    {
      "cell_type": "markdown",
      "metadata": {
        "id": "e91b4be5"
      },
      "source": [
        "# CHECKING IS THERE ANY DUBLICATES"
      ],
      "id": "e91b4be5"
    },
    {
      "cell_type": "code",
      "execution_count": 23,
      "metadata": {
        "id": "1aeef4a8",
        "outputId": "bf37909b-ebb4-42d4-c1d5-793e73ea2238",
        "colab": {
          "base_uri": "https://localhost:8080/"
        }
      },
      "outputs": [
        {
          "output_type": "execute_result",
          "data": {
            "text/plain": [
              "0"
            ]
          },
          "metadata": {},
          "execution_count": 23
        }
      ],
      "source": [
        "x_train.duplicated().sum()"
      ],
      "id": "1aeef4a8"
    },
    {
      "cell_type": "code",
      "execution_count": 24,
      "metadata": {
        "id": "407c661c",
        "outputId": "ea520be3-a157-4454-a524-c8027cac962b",
        "colab": {
          "base_uri": "https://localhost:8080/"
        }
      },
      "outputs": [
        {
          "output_type": "execute_result",
          "data": {
            "text/plain": [
              "1"
            ]
          },
          "metadata": {},
          "execution_count": 24
        }
      ],
      "source": [
        "x_test.duplicated().sum()"
      ],
      "id": "407c661c"
    },
    {
      "cell_type": "code",
      "execution_count": 25,
      "metadata": {
        "id": "76bb42ef"
      },
      "outputs": [],
      "source": [
        "x_test=x_test.drop_duplicates()"
      ],
      "id": "76bb42ef"
    },
    {
      "cell_type": "code",
      "execution_count": 26,
      "metadata": {
        "id": "a2da3f2c",
        "outputId": "bded6804-430b-4a15-cf00-522bfe774f75",
        "colab": {
          "base_uri": "https://localhost:8080/"
        }
      },
      "outputs": [
        {
          "output_type": "execute_result",
          "data": {
            "text/plain": [
              "0"
            ]
          },
          "metadata": {},
          "execution_count": 26
        }
      ],
      "source": [
        "x_test.duplicated().sum()"
      ],
      "id": "a2da3f2c"
    },
    {
      "cell_type": "code",
      "execution_count": 26,
      "metadata": {
        "id": "99e3319f"
      },
      "outputs": [],
      "source": [],
      "id": "99e3319f"
    },
    {
      "cell_type": "markdown",
      "metadata": {
        "id": "285d4f6c"
      },
      "source": [
        "# CHECKING OUTLIERS"
      ],
      "id": "285d4f6c"
    },
    {
      "cell_type": "code",
      "execution_count": 27,
      "metadata": {
        "id": "11bcd391",
        "outputId": "1b50deb8-1e5d-43e3-ad0b-955f4ee98af8",
        "colab": {
          "base_uri": "https://localhost:8080/",
          "height": 300
        }
      },
      "outputs": [
        {
          "output_type": "execute_result",
          "data": {
            "text/plain": [
              "       ApplicantIncome  CoapplicantIncome  LoanAmount  Loan_Amount_Term  \\\n",
              "count       523.000000         523.000000  523.000000        523.000000   \n",
              "mean       5439.227533        1554.783786  145.789352        341.965583   \n",
              "std        5949.632561        2540.882028   82.047179         63.822482   \n",
              "min         150.000000           0.000000    9.000000         36.000000   \n",
              "25%        2885.500000           0.000000  100.500000        360.000000   \n",
              "50%        3858.000000        1086.000000  130.000000        360.000000   \n",
              "75%        5839.000000        2250.000000  167.500000        360.000000   \n",
              "max       81000.000000       33837.000000  700.000000        480.000000   \n",
              "\n",
              "       Credit_History  \n",
              "count      523.000000  \n",
              "mean         0.841300  \n",
              "std          0.365746  \n",
              "min          0.000000  \n",
              "25%          1.000000  \n",
              "50%          1.000000  \n",
              "75%          1.000000  \n",
              "max          1.000000  "
            ],
            "text/html": [
              "\n",
              "  <div id=\"df-a7df2641-a3c6-435b-b78d-d1d8cffe6ecd\">\n",
              "    <div class=\"colab-df-container\">\n",
              "      <div>\n",
              "<style scoped>\n",
              "    .dataframe tbody tr th:only-of-type {\n",
              "        vertical-align: middle;\n",
              "    }\n",
              "\n",
              "    .dataframe tbody tr th {\n",
              "        vertical-align: top;\n",
              "    }\n",
              "\n",
              "    .dataframe thead th {\n",
              "        text-align: right;\n",
              "    }\n",
              "</style>\n",
              "<table border=\"1\" class=\"dataframe\">\n",
              "  <thead>\n",
              "    <tr style=\"text-align: right;\">\n",
              "      <th></th>\n",
              "      <th>ApplicantIncome</th>\n",
              "      <th>CoapplicantIncome</th>\n",
              "      <th>LoanAmount</th>\n",
              "      <th>Loan_Amount_Term</th>\n",
              "      <th>Credit_History</th>\n",
              "    </tr>\n",
              "  </thead>\n",
              "  <tbody>\n",
              "    <tr>\n",
              "      <th>count</th>\n",
              "      <td>523.000000</td>\n",
              "      <td>523.000000</td>\n",
              "      <td>523.000000</td>\n",
              "      <td>523.000000</td>\n",
              "      <td>523.000000</td>\n",
              "    </tr>\n",
              "    <tr>\n",
              "      <th>mean</th>\n",
              "      <td>5439.227533</td>\n",
              "      <td>1554.783786</td>\n",
              "      <td>145.789352</td>\n",
              "      <td>341.965583</td>\n",
              "      <td>0.841300</td>\n",
              "    </tr>\n",
              "    <tr>\n",
              "      <th>std</th>\n",
              "      <td>5949.632561</td>\n",
              "      <td>2540.882028</td>\n",
              "      <td>82.047179</td>\n",
              "      <td>63.822482</td>\n",
              "      <td>0.365746</td>\n",
              "    </tr>\n",
              "    <tr>\n",
              "      <th>min</th>\n",
              "      <td>150.000000</td>\n",
              "      <td>0.000000</td>\n",
              "      <td>9.000000</td>\n",
              "      <td>36.000000</td>\n",
              "      <td>0.000000</td>\n",
              "    </tr>\n",
              "    <tr>\n",
              "      <th>25%</th>\n",
              "      <td>2885.500000</td>\n",
              "      <td>0.000000</td>\n",
              "      <td>100.500000</td>\n",
              "      <td>360.000000</td>\n",
              "      <td>1.000000</td>\n",
              "    </tr>\n",
              "    <tr>\n",
              "      <th>50%</th>\n",
              "      <td>3858.000000</td>\n",
              "      <td>1086.000000</td>\n",
              "      <td>130.000000</td>\n",
              "      <td>360.000000</td>\n",
              "      <td>1.000000</td>\n",
              "    </tr>\n",
              "    <tr>\n",
              "      <th>75%</th>\n",
              "      <td>5839.000000</td>\n",
              "      <td>2250.000000</td>\n",
              "      <td>167.500000</td>\n",
              "      <td>360.000000</td>\n",
              "      <td>1.000000</td>\n",
              "    </tr>\n",
              "    <tr>\n",
              "      <th>max</th>\n",
              "      <td>81000.000000</td>\n",
              "      <td>33837.000000</td>\n",
              "      <td>700.000000</td>\n",
              "      <td>480.000000</td>\n",
              "      <td>1.000000</td>\n",
              "    </tr>\n",
              "  </tbody>\n",
              "</table>\n",
              "</div>\n",
              "      <button class=\"colab-df-convert\" onclick=\"convertToInteractive('df-a7df2641-a3c6-435b-b78d-d1d8cffe6ecd')\"\n",
              "              title=\"Convert this dataframe to an interactive table.\"\n",
              "              style=\"display:none;\">\n",
              "        \n",
              "  <svg xmlns=\"http://www.w3.org/2000/svg\" height=\"24px\"viewBox=\"0 0 24 24\"\n",
              "       width=\"24px\">\n",
              "    <path d=\"M0 0h24v24H0V0z\" fill=\"none\"/>\n",
              "    <path d=\"M18.56 5.44l.94 2.06.94-2.06 2.06-.94-2.06-.94-.94-2.06-.94 2.06-2.06.94zm-11 1L8.5 8.5l.94-2.06 2.06-.94-2.06-.94L8.5 2.5l-.94 2.06-2.06.94zm10 10l.94 2.06.94-2.06 2.06-.94-2.06-.94-.94-2.06-.94 2.06-2.06.94z\"/><path d=\"M17.41 7.96l-1.37-1.37c-.4-.4-.92-.59-1.43-.59-.52 0-1.04.2-1.43.59L10.3 9.45l-7.72 7.72c-.78.78-.78 2.05 0 2.83L4 21.41c.39.39.9.59 1.41.59.51 0 1.02-.2 1.41-.59l7.78-7.78 2.81-2.81c.8-.78.8-2.07 0-2.86zM5.41 20L4 18.59l7.72-7.72 1.47 1.35L5.41 20z\"/>\n",
              "  </svg>\n",
              "      </button>\n",
              "      \n",
              "  <style>\n",
              "    .colab-df-container {\n",
              "      display:flex;\n",
              "      flex-wrap:wrap;\n",
              "      gap: 12px;\n",
              "    }\n",
              "\n",
              "    .colab-df-convert {\n",
              "      background-color: #E8F0FE;\n",
              "      border: none;\n",
              "      border-radius: 50%;\n",
              "      cursor: pointer;\n",
              "      display: none;\n",
              "      fill: #1967D2;\n",
              "      height: 32px;\n",
              "      padding: 0 0 0 0;\n",
              "      width: 32px;\n",
              "    }\n",
              "\n",
              "    .colab-df-convert:hover {\n",
              "      background-color: #E2EBFA;\n",
              "      box-shadow: 0px 1px 2px rgba(60, 64, 67, 0.3), 0px 1px 3px 1px rgba(60, 64, 67, 0.15);\n",
              "      fill: #174EA6;\n",
              "    }\n",
              "\n",
              "    [theme=dark] .colab-df-convert {\n",
              "      background-color: #3B4455;\n",
              "      fill: #D2E3FC;\n",
              "    }\n",
              "\n",
              "    [theme=dark] .colab-df-convert:hover {\n",
              "      background-color: #434B5C;\n",
              "      box-shadow: 0px 1px 3px 1px rgba(0, 0, 0, 0.15);\n",
              "      filter: drop-shadow(0px 1px 2px rgba(0, 0, 0, 0.3));\n",
              "      fill: #FFFFFF;\n",
              "    }\n",
              "  </style>\n",
              "\n",
              "      <script>\n",
              "        const buttonEl =\n",
              "          document.querySelector('#df-a7df2641-a3c6-435b-b78d-d1d8cffe6ecd button.colab-df-convert');\n",
              "        buttonEl.style.display =\n",
              "          google.colab.kernel.accessAllowed ? 'block' : 'none';\n",
              "\n",
              "        async function convertToInteractive(key) {\n",
              "          const element = document.querySelector('#df-a7df2641-a3c6-435b-b78d-d1d8cffe6ecd');\n",
              "          const dataTable =\n",
              "            await google.colab.kernel.invokeFunction('convertToInteractive',\n",
              "                                                     [key], {});\n",
              "          if (!dataTable) return;\n",
              "\n",
              "          const docLinkHtml = 'Like what you see? Visit the ' +\n",
              "            '<a target=\"_blank\" href=https://colab.research.google.com/notebooks/data_table.ipynb>data table notebook</a>'\n",
              "            + ' to learn more about interactive tables.';\n",
              "          element.innerHTML = '';\n",
              "          dataTable['output_type'] = 'display_data';\n",
              "          await google.colab.output.renderOutput(dataTable, element);\n",
              "          const docLink = document.createElement('div');\n",
              "          docLink.innerHTML = docLinkHtml;\n",
              "          element.appendChild(docLink);\n",
              "        }\n",
              "      </script>\n",
              "    </div>\n",
              "  </div>\n",
              "  "
            ]
          },
          "metadata": {},
          "execution_count": 27
        }
      ],
      "source": [
        "x_train.describe()"
      ],
      "id": "11bcd391"
    },
    {
      "cell_type": "code",
      "execution_count": 28,
      "metadata": {
        "id": "1cc4ddea",
        "outputId": "6cb9b898-fd34-43dd-81f5-69f28006f122",
        "colab": {
          "base_uri": "https://localhost:8080/",
          "height": 300
        }
      },
      "outputs": [
        {
          "output_type": "execute_result",
          "data": {
            "text/plain": [
              "       ApplicantIncome  CoapplicantIncome  LoanAmount  Loan_Amount_Term  \\\n",
              "count       307.000000         307.000000  307.000000        307.000000   \n",
              "mean       4707.081433        1555.029316  136.092933        343.207449   \n",
              "std        4914.699219        2339.457035   58.522981         64.928363   \n",
              "min           0.000000           0.000000   28.000000          6.000000   \n",
              "25%        2864.000000           0.000000  102.000000        360.000000   \n",
              "50%        3791.000000        1000.000000  126.000000        360.000000   \n",
              "75%        5020.500000        2430.500000  154.000000        360.000000   \n",
              "max       72529.000000       24000.000000  460.000000        480.000000   \n",
              "\n",
              "       Credit_History  \n",
              "count      307.000000  \n",
              "mean         0.837134  \n",
              "std          0.369847  \n",
              "min          0.000000  \n",
              "25%          1.000000  \n",
              "50%          1.000000  \n",
              "75%          1.000000  \n",
              "max          1.000000  "
            ],
            "text/html": [
              "\n",
              "  <div id=\"df-3b5882ae-a382-406d-9642-a4663105c3bd\">\n",
              "    <div class=\"colab-df-container\">\n",
              "      <div>\n",
              "<style scoped>\n",
              "    .dataframe tbody tr th:only-of-type {\n",
              "        vertical-align: middle;\n",
              "    }\n",
              "\n",
              "    .dataframe tbody tr th {\n",
              "        vertical-align: top;\n",
              "    }\n",
              "\n",
              "    .dataframe thead th {\n",
              "        text-align: right;\n",
              "    }\n",
              "</style>\n",
              "<table border=\"1\" class=\"dataframe\">\n",
              "  <thead>\n",
              "    <tr style=\"text-align: right;\">\n",
              "      <th></th>\n",
              "      <th>ApplicantIncome</th>\n",
              "      <th>CoapplicantIncome</th>\n",
              "      <th>LoanAmount</th>\n",
              "      <th>Loan_Amount_Term</th>\n",
              "      <th>Credit_History</th>\n",
              "    </tr>\n",
              "  </thead>\n",
              "  <tbody>\n",
              "    <tr>\n",
              "      <th>count</th>\n",
              "      <td>307.000000</td>\n",
              "      <td>307.000000</td>\n",
              "      <td>307.000000</td>\n",
              "      <td>307.000000</td>\n",
              "      <td>307.000000</td>\n",
              "    </tr>\n",
              "    <tr>\n",
              "      <th>mean</th>\n",
              "      <td>4707.081433</td>\n",
              "      <td>1555.029316</td>\n",
              "      <td>136.092933</td>\n",
              "      <td>343.207449</td>\n",
              "      <td>0.837134</td>\n",
              "    </tr>\n",
              "    <tr>\n",
              "      <th>std</th>\n",
              "      <td>4914.699219</td>\n",
              "      <td>2339.457035</td>\n",
              "      <td>58.522981</td>\n",
              "      <td>64.928363</td>\n",
              "      <td>0.369847</td>\n",
              "    </tr>\n",
              "    <tr>\n",
              "      <th>min</th>\n",
              "      <td>0.000000</td>\n",
              "      <td>0.000000</td>\n",
              "      <td>28.000000</td>\n",
              "      <td>6.000000</td>\n",
              "      <td>0.000000</td>\n",
              "    </tr>\n",
              "    <tr>\n",
              "      <th>25%</th>\n",
              "      <td>2864.000000</td>\n",
              "      <td>0.000000</td>\n",
              "      <td>102.000000</td>\n",
              "      <td>360.000000</td>\n",
              "      <td>1.000000</td>\n",
              "    </tr>\n",
              "    <tr>\n",
              "      <th>50%</th>\n",
              "      <td>3791.000000</td>\n",
              "      <td>1000.000000</td>\n",
              "      <td>126.000000</td>\n",
              "      <td>360.000000</td>\n",
              "      <td>1.000000</td>\n",
              "    </tr>\n",
              "    <tr>\n",
              "      <th>75%</th>\n",
              "      <td>5020.500000</td>\n",
              "      <td>2430.500000</td>\n",
              "      <td>154.000000</td>\n",
              "      <td>360.000000</td>\n",
              "      <td>1.000000</td>\n",
              "    </tr>\n",
              "    <tr>\n",
              "      <th>max</th>\n",
              "      <td>72529.000000</td>\n",
              "      <td>24000.000000</td>\n",
              "      <td>460.000000</td>\n",
              "      <td>480.000000</td>\n",
              "      <td>1.000000</td>\n",
              "    </tr>\n",
              "  </tbody>\n",
              "</table>\n",
              "</div>\n",
              "      <button class=\"colab-df-convert\" onclick=\"convertToInteractive('df-3b5882ae-a382-406d-9642-a4663105c3bd')\"\n",
              "              title=\"Convert this dataframe to an interactive table.\"\n",
              "              style=\"display:none;\">\n",
              "        \n",
              "  <svg xmlns=\"http://www.w3.org/2000/svg\" height=\"24px\"viewBox=\"0 0 24 24\"\n",
              "       width=\"24px\">\n",
              "    <path d=\"M0 0h24v24H0V0z\" fill=\"none\"/>\n",
              "    <path d=\"M18.56 5.44l.94 2.06.94-2.06 2.06-.94-2.06-.94-.94-2.06-.94 2.06-2.06.94zm-11 1L8.5 8.5l.94-2.06 2.06-.94-2.06-.94L8.5 2.5l-.94 2.06-2.06.94zm10 10l.94 2.06.94-2.06 2.06-.94-2.06-.94-.94-2.06-.94 2.06-2.06.94z\"/><path d=\"M17.41 7.96l-1.37-1.37c-.4-.4-.92-.59-1.43-.59-.52 0-1.04.2-1.43.59L10.3 9.45l-7.72 7.72c-.78.78-.78 2.05 0 2.83L4 21.41c.39.39.9.59 1.41.59.51 0 1.02-.2 1.41-.59l7.78-7.78 2.81-2.81c.8-.78.8-2.07 0-2.86zM5.41 20L4 18.59l7.72-7.72 1.47 1.35L5.41 20z\"/>\n",
              "  </svg>\n",
              "      </button>\n",
              "      \n",
              "  <style>\n",
              "    .colab-df-container {\n",
              "      display:flex;\n",
              "      flex-wrap:wrap;\n",
              "      gap: 12px;\n",
              "    }\n",
              "\n",
              "    .colab-df-convert {\n",
              "      background-color: #E8F0FE;\n",
              "      border: none;\n",
              "      border-radius: 50%;\n",
              "      cursor: pointer;\n",
              "      display: none;\n",
              "      fill: #1967D2;\n",
              "      height: 32px;\n",
              "      padding: 0 0 0 0;\n",
              "      width: 32px;\n",
              "    }\n",
              "\n",
              "    .colab-df-convert:hover {\n",
              "      background-color: #E2EBFA;\n",
              "      box-shadow: 0px 1px 2px rgba(60, 64, 67, 0.3), 0px 1px 3px 1px rgba(60, 64, 67, 0.15);\n",
              "      fill: #174EA6;\n",
              "    }\n",
              "\n",
              "    [theme=dark] .colab-df-convert {\n",
              "      background-color: #3B4455;\n",
              "      fill: #D2E3FC;\n",
              "    }\n",
              "\n",
              "    [theme=dark] .colab-df-convert:hover {\n",
              "      background-color: #434B5C;\n",
              "      box-shadow: 0px 1px 3px 1px rgba(0, 0, 0, 0.15);\n",
              "      filter: drop-shadow(0px 1px 2px rgba(0, 0, 0, 0.3));\n",
              "      fill: #FFFFFF;\n",
              "    }\n",
              "  </style>\n",
              "\n",
              "      <script>\n",
              "        const buttonEl =\n",
              "          document.querySelector('#df-3b5882ae-a382-406d-9642-a4663105c3bd button.colab-df-convert');\n",
              "        buttonEl.style.display =\n",
              "          google.colab.kernel.accessAllowed ? 'block' : 'none';\n",
              "\n",
              "        async function convertToInteractive(key) {\n",
              "          const element = document.querySelector('#df-3b5882ae-a382-406d-9642-a4663105c3bd');\n",
              "          const dataTable =\n",
              "            await google.colab.kernel.invokeFunction('convertToInteractive',\n",
              "                                                     [key], {});\n",
              "          if (!dataTable) return;\n",
              "\n",
              "          const docLinkHtml = 'Like what you see? Visit the ' +\n",
              "            '<a target=\"_blank\" href=https://colab.research.google.com/notebooks/data_table.ipynb>data table notebook</a>'\n",
              "            + ' to learn more about interactive tables.';\n",
              "          element.innerHTML = '';\n",
              "          dataTable['output_type'] = 'display_data';\n",
              "          await google.colab.output.renderOutput(dataTable, element);\n",
              "          const docLink = document.createElement('div');\n",
              "          docLink.innerHTML = docLinkHtml;\n",
              "          element.appendChild(docLink);\n",
              "        }\n",
              "      </script>\n",
              "    </div>\n",
              "  </div>\n",
              "  "
            ]
          },
          "metadata": {},
          "execution_count": 28
        }
      ],
      "source": [
        "x_test.describe()"
      ],
      "id": "1cc4ddea"
    },
    {
      "cell_type": "markdown",
      "metadata": {
        "id": "db008c0f"
      },
      "source": [
        "# ApplicantIncome"
      ],
      "id": "db008c0f"
    },
    {
      "cell_type": "code",
      "execution_count": 29,
      "metadata": {
        "id": "424854eb",
        "outputId": "fcb66c11-81c8-4fca-c4dc-9bbcee773081",
        "colab": {
          "base_uri": "https://localhost:8080/"
        }
      },
      "outputs": [
        {
          "output_type": "stream",
          "name": "stdout",
          "text": [
            "7\n"
          ]
        }
      ],
      "source": [
        "outlier=[]\n",
        "mean,std=5439.227533,5949.632561\n",
        "for i in x_train['ApplicantIncome']:\n",
        "    x = (i-mean)/std\n",
        "    if x > 3 or x <-3:\n",
        "        outlier.append(i)\n",
        "print(len(outlier))"
      ],
      "id": "424854eb"
    },
    {
      "cell_type": "code",
      "execution_count": 30,
      "metadata": {
        "id": "8d78074c",
        "outputId": "431f27de-4553-46ad-c0fb-3b09f0756e57",
        "colab": {
          "base_uri": "https://localhost:8080/"
        }
      },
      "outputs": [
        {
          "output_type": "stream",
          "name": "stdout",
          "text": [
            "3\n"
          ]
        }
      ],
      "source": [
        "outlier=[]\n",
        "mean,std=4707.081433,4914.699219\n",
        "for i in x_test['ApplicantIncome']:\n",
        "    x = (i-mean)/std\n",
        "    if x > 3 or x <-3:\n",
        "        outlier.append(i)\n",
        "print(len(outlier))"
      ],
      "id": "8d78074c"
    },
    {
      "cell_type": "markdown",
      "source": [
        "Outliers in ApplicantIncome that make sense."
      ],
      "metadata": {
        "id": "44x53UFysHDt"
      },
      "id": "44x53UFysHDt"
    },
    {
      "cell_type": "markdown",
      "metadata": {
        "id": "22fc7b72"
      },
      "source": [
        "# CoapplicantIncome"
      ],
      "id": "22fc7b72"
    },
    {
      "cell_type": "code",
      "execution_count": 31,
      "metadata": {
        "id": "2688f20c",
        "outputId": "531c1111-ca68-4bdc-a5e1-d250a2578823",
        "colab": {
          "base_uri": "https://localhost:8080/"
        }
      },
      "outputs": [
        {
          "output_type": "stream",
          "name": "stdout",
          "text": [
            "5\n"
          ]
        }
      ],
      "source": [
        "outlier=[]\n",
        "mean,std=1554.783786,2540.882028\n",
        "for i in x_train['CoapplicantIncome']:\n",
        "    x = (i-mean)/std\n",
        "    if x > 3 or x <-3:\n",
        "        outlier.append(i)\n",
        "print(len(outlier))"
      ],
      "id": "2688f20c"
    },
    {
      "cell_type": "code",
      "execution_count": 32,
      "metadata": {
        "id": "5b03d834",
        "outputId": "5407cf6f-2e90-4a95-e2a9-02aecdd58a1d",
        "colab": {
          "base_uri": "https://localhost:8080/"
        }
      },
      "outputs": [
        {
          "output_type": "stream",
          "name": "stdout",
          "text": [
            "4\n"
          ]
        }
      ],
      "source": [
        "outlier=[]\n",
        "mean,std=1555.029316,2339.457035\n",
        "for i in x_test['CoapplicantIncome']:\n",
        "    x = (i-mean)/std\n",
        "    if x > 3 or x <-3:\n",
        "        outlier.append(i)\n",
        "print(len(outlier))"
      ],
      "id": "5b03d834"
    },
    {
      "cell_type": "markdown",
      "source": [
        "Outliers in CoApplicantIncome that make sense."
      ],
      "metadata": {
        "id": "gSkhTGvCsKma"
      },
      "id": "gSkhTGvCsKma"
    },
    {
      "cell_type": "markdown",
      "metadata": {
        "id": "d7cbb7fc"
      },
      "source": [
        "# LoanAmount"
      ],
      "id": "d7cbb7fc"
    },
    {
      "cell_type": "code",
      "execution_count": 33,
      "metadata": {
        "id": "717aae27",
        "outputId": "29f43923-ad65-408c-cb29-cb762171125a",
        "colab": {
          "base_uri": "https://localhost:8080/"
        }
      },
      "outputs": [
        {
          "output_type": "stream",
          "name": "stdout",
          "text": [
            "11\n"
          ]
        }
      ],
      "source": [
        "outlier=[]\n",
        "mean,std=145.789352,82.047179\n",
        "for i in x_train['LoanAmount']:\n",
        "    x = (i-mean)/std\n",
        "    if x > 3 or x <-3:\n",
        "        outlier.append(i)\n",
        "print(len(outlier))"
      ],
      "id": "717aae27"
    },
    {
      "cell_type": "code",
      "execution_count": 34,
      "metadata": {
        "id": "668b3f70",
        "outputId": "484a2f3e-4bf0-42fe-aa0c-832d59d2b010",
        "colab": {
          "base_uri": "https://localhost:8080/"
        }
      },
      "outputs": [
        {
          "output_type": "stream",
          "name": "stdout",
          "text": [
            "5\n"
          ]
        }
      ],
      "source": [
        "outlier=[]\n",
        "mean,std=136.092933,58.522981\n",
        "for i in x_test['LoanAmount']:\n",
        "    x = (i-mean)/std\n",
        "    if x > 3 or x <-3:\n",
        "        outlier.append(i)\n",
        "print(len(outlier))"
      ],
      "id": "668b3f70"
    },
    {
      "cell_type": "markdown",
      "source": [
        "Outliers in loan amount that make sense."
      ],
      "metadata": {
        "id": "BksnMW3DsNwx"
      },
      "id": "BksnMW3DsNwx"
    },
    {
      "cell_type": "markdown",
      "metadata": {
        "id": "006db6d6"
      },
      "source": [
        "# Loan_Amount_Term"
      ],
      "id": "006db6d6"
    },
    {
      "cell_type": "code",
      "execution_count": 35,
      "metadata": {
        "id": "be3ea38e",
        "outputId": "a6f9403c-601e-4b95-9d63-53edc83f2567",
        "colab": {
          "base_uri": "https://localhost:8080/"
        }
      },
      "outputs": [
        {
          "output_type": "stream",
          "name": "stdout",
          "text": [
            "10\n"
          ]
        }
      ],
      "source": [
        "outlier=[]\n",
        "mean,std=343.207449,63.822482\n",
        "for i in x_train['Loan_Amount_Term']:\n",
        "    x = (i-mean)/std\n",
        "    if x > 3 or x <-3:\n",
        "        outlier.append(i)\n",
        "print(len(outlier))"
      ],
      "id": "be3ea38e"
    },
    {
      "cell_type": "code",
      "execution_count": 36,
      "metadata": {
        "id": "ef06809f",
        "outputId": "ecc0b381-3e95-4e97-9bdd-55010bacf892",
        "colab": {
          "base_uri": "https://localhost:8080/"
        }
      },
      "outputs": [
        {
          "output_type": "stream",
          "name": "stdout",
          "text": [
            "6\n"
          ]
        }
      ],
      "source": [
        "outlier=[]\n",
        "mean,std=343.207449,64.928363\n",
        "for i in x_test['Loan_Amount_Term']:\n",
        "    x = (i-mean)/std\n",
        "    if x > 3 or x <-3:\n",
        "        outlier.append(i)\n",
        "print(len(outlier))"
      ],
      "id": "ef06809f"
    },
    {
      "cell_type": "markdown",
      "source": [
        "Minimal outliers only in Loan amount term"
      ],
      "metadata": {
        "id": "-wQ-EfHWsSlW"
      },
      "id": "-wQ-EfHWsSlW"
    },
    {
      "cell_type": "markdown",
      "metadata": {
        "id": "d37b5777"
      },
      "source": [
        "# Credit_History"
      ],
      "id": "d37b5777"
    },
    {
      "cell_type": "code",
      "execution_count": 37,
      "metadata": {
        "id": "a4ad0d8f",
        "outputId": "f48d1985-5064-48c3-ae6a-31d8a138925b",
        "colab": {
          "base_uri": "https://localhost:8080/"
        }
      },
      "outputs": [
        {
          "output_type": "stream",
          "name": "stdout",
          "text": [
            "0\n"
          ]
        }
      ],
      "source": [
        "outlier=[]\n",
        "mean,std=0.841300,0.365746\n",
        "for i in x_train['Credit_History']:\n",
        "    x = (i-mean)/std\n",
        "    if x > 3 or x <-3:\n",
        "        outlier.append(i)\n",
        "print(len(outlier))"
      ],
      "id": "a4ad0d8f"
    },
    {
      "cell_type": "code",
      "execution_count": 38,
      "metadata": {
        "id": "1fe37b52",
        "outputId": "05bae2c8-0ded-465e-ff8f-8552cd8f3ba2",
        "colab": {
          "base_uri": "https://localhost:8080/"
        }
      },
      "outputs": [
        {
          "output_type": "stream",
          "name": "stdout",
          "text": [
            "0\n"
          ]
        }
      ],
      "source": [
        "outlier=[]\n",
        "mean,std=0.837134,0.369847\n",
        "for i in x_test['Credit_History']:\n",
        "    x = (i-mean)/std\n",
        "    if x > 3 or x <-3:\n",
        "        outlier.append(i)\n",
        "print(len(outlier))"
      ],
      "id": "1fe37b52"
    },
    {
      "cell_type": "markdown",
      "source": [
        "No outliers in Credit history "
      ],
      "metadata": {
        "id": "ZaUpqgcnsVey"
      },
      "id": "ZaUpqgcnsVey"
    },
    {
      "cell_type": "markdown",
      "metadata": {
        "id": "a50f9f1a"
      },
      "source": [
        "# CHECKING IS THERE ANY SPELLING MISTAKES."
      ],
      "id": "a50f9f1a"
    },
    {
      "cell_type": "code",
      "execution_count": 39,
      "metadata": {
        "id": "34786330",
        "outputId": "68fe6c72-e89c-4df6-81b3-20c45f6f7556",
        "colab": {
          "base_uri": "https://localhost:8080/"
        }
      },
      "outputs": [
        {
          "output_type": "execute_result",
          "data": {
            "text/plain": [
              "(array(['Male', 'Female'], dtype=object),\n",
              " array(['Male', 'Female'], dtype=object))"
            ]
          },
          "metadata": {},
          "execution_count": 39
        }
      ],
      "source": [
        "x=x_train['Gender'].unique()\n",
        "y=x_test['Gender'].unique()\n",
        "x,y"
      ],
      "id": "34786330"
    },
    {
      "cell_type": "code",
      "execution_count": 40,
      "metadata": {
        "id": "3694e569",
        "outputId": "e8d47139-3103-49e6-ef8a-77a1c1149c34",
        "colab": {
          "base_uri": "https://localhost:8080/"
        }
      },
      "outputs": [
        {
          "output_type": "execute_result",
          "data": {
            "text/plain": [
              "(array(['No', 'Yes'], dtype=object), array(['Yes', 'No'], dtype=object))"
            ]
          },
          "metadata": {},
          "execution_count": 40
        }
      ],
      "source": [
        "x=x_train['Married'].unique()\n",
        "y=x_test['Married'].unique()\n",
        "x,y"
      ],
      "id": "3694e569"
    },
    {
      "cell_type": "code",
      "execution_count": 41,
      "metadata": {
        "id": "03b7750d",
        "outputId": "e0709874-90ea-4987-87b6-e202b038d73a",
        "colab": {
          "base_uri": "https://localhost:8080/"
        }
      },
      "outputs": [
        {
          "output_type": "execute_result",
          "data": {
            "text/plain": [
              "(array(['0', '1', '2', '3+'], dtype=object),\n",
              " array(['0', '1', '2', '3+'], dtype=object))"
            ]
          },
          "metadata": {},
          "execution_count": 41
        }
      ],
      "source": [
        "x=x_train['Dependents'].unique()\n",
        "y=x_test['Dependents'].unique()\n",
        "x,y"
      ],
      "id": "03b7750d"
    },
    {
      "cell_type": "code",
      "execution_count": 42,
      "metadata": {
        "id": "0187df18",
        "outputId": "32544594-a746-4e2d-8e9d-45e36c11613b",
        "colab": {
          "base_uri": "https://localhost:8080/"
        }
      },
      "outputs": [
        {
          "output_type": "execute_result",
          "data": {
            "text/plain": [
              "(array(['Graduate', 'Not Graduate'], dtype=object),\n",
              " array(['Graduate', 'Not Graduate'], dtype=object))"
            ]
          },
          "metadata": {},
          "execution_count": 42
        }
      ],
      "source": [
        "x=x_train['Education'].unique()\n",
        "y=x_test['Education'].unique()\n",
        "x,y"
      ],
      "id": "0187df18"
    },
    {
      "cell_type": "code",
      "execution_count": 43,
      "metadata": {
        "id": "41402e10",
        "outputId": "88752c5f-717c-4090-ae01-7640ff9a8ac9",
        "colab": {
          "base_uri": "https://localhost:8080/"
        }
      },
      "outputs": [
        {
          "output_type": "execute_result",
          "data": {
            "text/plain": [
              "(array(['No', 'Yes'], dtype=object), array(['No', 'Yes'], dtype=object))"
            ]
          },
          "metadata": {},
          "execution_count": 43
        }
      ],
      "source": [
        "x=x_train['Self_Employed'].unique()\n",
        "y=x_test['Self_Employed'].unique()\n",
        "x,y"
      ],
      "id": "41402e10"
    },
    {
      "cell_type": "code",
      "execution_count": 44,
      "metadata": {
        "id": "fa522022",
        "outputId": "a0749857-55fb-4fe3-e261-c40e1f20b950",
        "colab": {
          "base_uri": "https://localhost:8080/"
        }
      },
      "outputs": [
        {
          "output_type": "execute_result",
          "data": {
            "text/plain": [
              "(array(['Urban', 'Rural', 'Semiurban'], dtype=object),\n",
              " array(['Urban', 'Semiurban', 'Rural'], dtype=object))"
            ]
          },
          "metadata": {},
          "execution_count": 44
        }
      ],
      "source": [
        "x=x_train['Property_Area'].unique()\n",
        "y=x_test['Property_Area'].unique()\n",
        "x,y"
      ],
      "id": "fa522022"
    },
    {
      "cell_type": "code",
      "execution_count": 45,
      "metadata": {
        "id": "70647616",
        "outputId": "bb490682-631b-4af8-c44c-ee7d81042ac7",
        "colab": {
          "base_uri": "https://localhost:8080/"
        }
      },
      "outputs": [
        {
          "output_type": "execute_result",
          "data": {
            "text/plain": [
              "array(['Y', 'N'], dtype=object)"
            ]
          },
          "metadata": {},
          "execution_count": 45
        }
      ],
      "source": [
        "x=x_train['Loan_Status'].unique()\n",
        "x"
      ],
      "id": "70647616"
    },
    {
      "cell_type": "markdown",
      "source": [
        "There is no spelling mistakes over there."
      ],
      "metadata": {
        "id": "1uC4M0EhsYzr"
      },
      "id": "1uC4M0EhsYzr"
    },
    {
      "cell_type": "markdown",
      "metadata": {
        "id": "e113a5a1"
      },
      "source": [
        "# CHECKING FOR DTYPES "
      ],
      "id": "e113a5a1"
    },
    {
      "cell_type": "code",
      "execution_count": 46,
      "metadata": {
        "id": "78f7d111",
        "outputId": "7d65fc4d-2727-4065-a91a-669a24dd62ef",
        "colab": {
          "base_uri": "https://localhost:8080/"
        }
      },
      "outputs": [
        {
          "output_type": "execute_result",
          "data": {
            "text/plain": [
              "Gender                object\n",
              "Married               object\n",
              "Dependents            object\n",
              "Education             object\n",
              "Self_Employed         object\n",
              "ApplicantIncome        int64\n",
              "CoapplicantIncome    float64\n",
              "LoanAmount           float64\n",
              "Loan_Amount_Term     float64\n",
              "Credit_History       float64\n",
              "Property_Area         object\n",
              "Loan_Status           object\n",
              "dtype: object"
            ]
          },
          "metadata": {},
          "execution_count": 46
        }
      ],
      "source": [
        "x_train.dtypes"
      ],
      "id": "78f7d111"
    },
    {
      "cell_type": "markdown",
      "source": [
        "Here we gonna change Credit_History into int otherwise all good over here."
      ],
      "metadata": {
        "id": "SrfVsQT_sc56"
      },
      "id": "SrfVsQT_sc56"
    },
    {
      "cell_type": "code",
      "execution_count": 47,
      "metadata": {
        "id": "fe67f46c",
        "outputId": "b5a63c51-c139-484e-ed15-0ab7955f290c",
        "colab": {
          "base_uri": "https://localhost:8080/"
        }
      },
      "outputs": [
        {
          "output_type": "execute_result",
          "data": {
            "text/plain": [
              "Gender                object\n",
              "Married               object\n",
              "Dependents            object\n",
              "Education             object\n",
              "Self_Employed         object\n",
              "ApplicantIncome        int64\n",
              "CoapplicantIncome    float64\n",
              "LoanAmount           float64\n",
              "Loan_Amount_Term     float64\n",
              "Credit_History         int64\n",
              "Property_Area         object\n",
              "Loan_Status           object\n",
              "dtype: object"
            ]
          },
          "metadata": {},
          "execution_count": 47
        }
      ],
      "source": [
        "x_train.Credit_History = x_train.Credit_History.astype('int64')\n",
        "x_test.Credit_History = x_test.Credit_History.astype('int64')\n",
        "x_train.dtypes"
      ],
      "id": "fe67f46c"
    },
    {
      "cell_type": "code",
      "execution_count": 48,
      "metadata": {
        "id": "908b5c65",
        "outputId": "de266acb-fe33-4f94-9358-aa82d8a9a2fc",
        "colab": {
          "base_uri": "https://localhost:8080/"
        }
      },
      "outputs": [
        {
          "output_type": "execute_result",
          "data": {
            "text/plain": [
              "Gender                object\n",
              "Married               object\n",
              "Dependents            object\n",
              "Education             object\n",
              "Self_Employed         object\n",
              "ApplicantIncome        int64\n",
              "CoapplicantIncome      int64\n",
              "LoanAmount           float64\n",
              "Loan_Amount_Term     float64\n",
              "Credit_History         int64\n",
              "Property_Area         object\n",
              "dtype: object"
            ]
          },
          "metadata": {},
          "execution_count": 48
        }
      ],
      "source": [
        "x_test.dtypes"
      ],
      "id": "908b5c65"
    },
    {
      "cell_type": "markdown",
      "metadata": {
        "id": "6481344a"
      },
      "source": [
        "# EDA"
      ],
      "id": "6481344a"
    },
    {
      "cell_type": "code",
      "execution_count": 49,
      "metadata": {
        "id": "e9a06536",
        "outputId": "0b25a4b3-3631-49d3-aac3-7e2cc4bd6ae1",
        "colab": {
          "base_uri": "https://localhost:8080/"
        }
      },
      "outputs": [
        {
          "output_type": "execute_result",
          "data": {
            "text/plain": [
              "Index(['Gender', 'Married', 'Dependents', 'Education', 'Self_Employed',\n",
              "       'ApplicantIncome', 'CoapplicantIncome', 'LoanAmount',\n",
              "       'Loan_Amount_Term', 'Credit_History', 'Property_Area', 'Loan_Status'],\n",
              "      dtype='object')"
            ]
          },
          "metadata": {},
          "execution_count": 49
        }
      ],
      "source": [
        "x_train.columns"
      ],
      "id": "e9a06536"
    },
    {
      "cell_type": "code",
      "execution_count": 50,
      "metadata": {
        "id": "a1bd775c",
        "outputId": "6dbe5c91-fb85-4f69-932c-efea209e776c",
        "colab": {
          "base_uri": "https://localhost:8080/"
        }
      },
      "outputs": [
        {
          "output_type": "execute_result",
          "data": {
            "text/plain": [
              "Index(['Gender', 'Married', 'Dependents', 'Education', 'Self_Employed',\n",
              "       'ApplicantIncome', 'CoapplicantIncome', 'LoanAmount',\n",
              "       'Loan_Amount_Term', 'Credit_History', 'Property_Area'],\n",
              "      dtype='object')"
            ]
          },
          "metadata": {},
          "execution_count": 50
        }
      ],
      "source": [
        "x_test.columns"
      ],
      "id": "a1bd775c"
    },
    {
      "cell_type": "markdown",
      "metadata": {
        "id": "2a7645f8"
      },
      "source": [
        "# FINDING FEATURE DISTRIBUTION"
      ],
      "id": "2a7645f8"
    },
    {
      "cell_type": "code",
      "execution_count": 51,
      "metadata": {
        "id": "fe2390f7",
        "outputId": "ab22c896-3c3e-4b9a-ade2-33602f967b51",
        "colab": {
          "base_uri": "https://localhost:8080/",
          "height": 530
        }
      },
      "outputs": [
        {
          "output_type": "stream",
          "name": "stderr",
          "text": [
            "/usr/local/lib/python3.7/dist-packages/seaborn/distributions.py:2619: FutureWarning: `distplot` is a deprecated function and will be removed in a future version. Please adapt your code to use either `displot` (a figure-level function with similar flexibility) or `histplot` (an axes-level function for histograms).\n",
            "  warnings.warn(msg, FutureWarning)\n",
            "/usr/local/lib/python3.7/dist-packages/seaborn/distributions.py:2619: FutureWarning: `distplot` is a deprecated function and will be removed in a future version. Please adapt your code to use either `displot` (a figure-level function with similar flexibility) or `histplot` (an axes-level function for histograms).\n",
            "  warnings.warn(msg, FutureWarning)\n"
          ]
        },
        {
          "output_type": "display_data",
          "data": {
            "text/plain": [
              "<Figure size 864x432 with 2 Axes>"
            ],
            "image/png": "[encoded data removed]"
          },
          "metadata": {
            "needs_background": "light"
          }
        }
      ],
      "source": [
        "plt.figure(figsize=(12,6))\n",
        "plt.subplot(1,2,1)\n",
        "sns.distplot(x_train.ApplicantIncome)\n",
        "plt.subplot(1,2,2)\n",
        "sns.distplot(x_train.CoapplicantIncome,color = 'darkblue')\n",
        "plt.tight_layout()"
      ],
      "id": "fe2390f7"
    },
    {
      "cell_type": "markdown",
      "source": [
        "It was look like the applicanticome mostly in between 0 to 20000 and in coapplicantincome 0 to 8000."
      ],
      "metadata": {
        "id": "xMF6oRExshAl"
      },
      "id": "xMF6oRExshAl"
    },
    {
      "cell_type": "code",
      "execution_count": 52,
      "metadata": {
        "id": "3f52d040",
        "outputId": "e523e1da-5f34-4aa8-94e0-340aa4dac721",
        "colab": {
          "base_uri": "https://localhost:8080/",
          "height": 565
        }
      },
      "outputs": [
        {
          "output_type": "stream",
          "name": "stderr",
          "text": [
            "/usr/local/lib/python3.7/dist-packages/seaborn/distributions.py:2619: FutureWarning: `distplot` is a deprecated function and will be removed in a future version. Please adapt your code to use either `displot` (a figure-level function with similar flexibility) or `histplot` (an axes-level function for histograms).\n",
            "  warnings.warn(msg, FutureWarning)\n",
            "/usr/local/lib/python3.7/dist-packages/seaborn/distributions.py:2619: FutureWarning: `distplot` is a deprecated function and will be removed in a future version. Please adapt your code to use either `displot` (a figure-level function with similar flexibility) or `histplot` (an axes-level function for histograms).\n",
            "  warnings.warn(msg, FutureWarning)\n",
            "/usr/local/lib/python3.7/dist-packages/seaborn/distributions.py:2619: FutureWarning: `distplot` is a deprecated function and will be removed in a future version. Please adapt your code to use either `displot` (a figure-level function with similar flexibility) or `histplot` (an axes-level function for histograms).\n",
            "  warnings.warn(msg, FutureWarning)\n"
          ]
        },
        {
          "output_type": "display_data",
          "data": {
            "text/plain": [
              "<Figure size 864x432 with 3 Axes>"
            ],
            "image/png": "[encoded data removed]"
          },
          "metadata": {
            "needs_background": "light"
          }
        }
      ],
      "source": [
        "plt.figure(figsize=(12,6))\n",
        "plt.subplot(1,3,1)\n",
        "sns.distplot(x_train.LoanAmount,color='green')\n",
        "plt.subplot(1,3,2)\n",
        "sns.distplot(x_train.Loan_Amount_Term,color='red')\n",
        "plt.subplot(1,3,3)\n",
        "sns.distplot(x_train.Credit_History,color='Blue')\n",
        "plt.tight_layout()"
      ],
      "id": "3f52d040"
    },
    {
      "cell_type": "markdown",
      "source": [
        "Loan amount was nearly like normal distribution.\n",
        "\n",
        "Loan amount term distributed in 200,310,370 and highly in 380.\n",
        "\n",
        "Credit history between 0 and 1."
      ],
      "metadata": {
        "id": "JhfUDUX1skSb"
      },
      "id": "JhfUDUX1skSb"
    },
    {
      "cell_type": "code",
      "execution_count": 53,
      "metadata": {
        "id": "7e8aaa38",
        "outputId": "816bf8ef-6f02-4399-a488-78fadd1fc7e3",
        "colab": {
          "base_uri": "https://localhost:8080/",
          "height": 1000
        }
      },
      "outputs": [
        {
          "output_type": "display_data",
          "data": {
            "text/plain": [
              "<Figure size 864x1296 with 6 Axes>"
            ],
            "image/png": "[encoded data removed]"
          },
          "metadata": {
            "needs_background": "light"
          }
        },
        {
          "output_type": "display_data",
          "data": {
            "text/plain": [
              "<Figure size 432x288 with 0 Axes>"
            ]
          },
          "metadata": {}
        }
      ],
      "source": [
        "plt.figure(figsize=(12,18))\n",
        "\n",
        "A=x_train['Gender'].groupby(x_train['Gender']).count()\n",
        "B=x_train['Married'].groupby(x_train['Married']).count()\n",
        "C=x_train['Dependents'].groupby(x_train['Dependents']).count()\n",
        "D=x_train['Education'].groupby(x_train['Education']).count()\n",
        "E=x_train['Self_Employed'].groupby(x_train['Self_Employed']).count()\n",
        "F=x_train['Property_Area'].groupby(x_train['Property_Area']).count()\n",
        "\n",
        "plt.subplot(3,2,1)\n",
        "sns.barplot(x=A.index,y=A.values,data=x_train)\n",
        "plt.title('GENDER DISTRIBUTION')\n",
        "\n",
        "plt.subplot(3,2,2)\n",
        "sns.barplot(x=B.index,y=B.values,data=x_train)\n",
        "plt.title('MARRIED DISTRIBUTION')\n",
        "\n",
        "plt.subplot(3,2,3)\n",
        "sns.barplot(x=C.index,y=C.values,data=x_train)\n",
        "plt.title('DEPENDENTS DISTRIBUTION')\n",
        "\n",
        "plt.subplot(3,2,4)\n",
        "sns.barplot(x=D.index,y=D.values,data=x_train)\n",
        "plt.title('EDUCATION DISTRIBUTION')\n",
        "\n",
        "plt.subplot(3,2,5)\n",
        "sns.barplot(x=E.index,y=E.values,data=x_train)\n",
        "plt.title('SELF_EMPLOYED DISTRIBUTION')\n",
        "\n",
        "plt.subplot(3,2,6)\n",
        "sns.barplot(x=F.index,y=F.values,data=x_train)\n",
        "plt.title('PROPERTY_AREA DISTRIBUTION')\n",
        "\n",
        "plt.show()\n",
        "plt.tight_layout()"
      ],
      "id": "7e8aaa38"
    },
    {
      "cell_type": "markdown",
      "source": [
        "In gender the male dominates more distribution and in married yes dominates more distribution\n",
        "In dependents 0 distributed more and in education graduated distributed more.\n",
        "In self_employmed are less which means no distributed more and in property area semiurban distributed more."
      ],
      "metadata": {
        "id": "2MJJBYkYsoRF"
      },
      "id": "2MJJBYkYsoRF"
    },
    {
      "cell_type": "code",
      "execution_count": 54,
      "metadata": {
        "id": "64010e8d",
        "outputId": "461b5a9a-867c-43fd-e96c-406787d76e7d",
        "colab": {
          "base_uri": "https://localhost:8080/",
          "height": 585
        }
      },
      "outputs": [
        {
          "output_type": "display_data",
          "data": {
            "text/plain": [
              "<Figure size 864x576 with 6 Axes>"
            ],
            "image/png": "[encoded data removed]"
          },
          "metadata": {}
        }
      ],
      "source": [
        "plt.figure(figsize=(12,8))\n",
        "\n",
        "plt.subplot(321)\n",
        "df_source = x_train.Gender.value_counts()\n",
        "df_source = df_source.reset_index()\n",
        "plt.pie(df_source['Gender'],labels=df_source['index'],autopct='%1.1f%%')\n",
        "plt.title('Percent distribution of  Gender')\n",
        "plt.axis('equal')\n",
        "\n",
        "plt.subplot(322)\n",
        "df_source = x_train.Married.value_counts()\n",
        "df_source = df_source.reset_index()\n",
        "plt.pie(df_source['Married'],labels=df_source['index'],autopct='%1.1f%%')\n",
        "plt.title('Percent distribution of  Married')\n",
        "plt.axis('equal')\n",
        "\n",
        "plt.subplot(323)\n",
        "df_source = x_train.Dependents.value_counts()\n",
        "df_source = df_source.reset_index()\n",
        "plt.pie(df_source['Dependents'],labels=df_source['index'],autopct='%1.1f%%')\n",
        "plt.title('Percent distribution of  Dependents')\n",
        "plt.axis('equal')\n",
        "    \n",
        "plt.subplot(324)\n",
        "df_source = x_train.Education.value_counts()\n",
        "df_source = df_source.reset_index()\n",
        "plt.pie(df_source['Education'],labels=df_source['index'],autopct='%1.1f%%')\n",
        "plt.title('Percent distribution of  Education')\n",
        "plt.axis('equal')\n",
        "    \n",
        "plt.subplot(325)\n",
        "df_source = x_train.Self_Employed.value_counts()\n",
        "df_source = df_source.reset_index()\n",
        "plt.pie(df_source['Self_Employed'],labels=df_source['index'],autopct='%1.1f%%')\n",
        "plt.title('Percent distribution of  Self_Employed')\n",
        "plt.axis('equal')\n",
        "\n",
        "plt.subplot(326)\n",
        "df_source = x_train.Property_Area.value_counts()\n",
        "df_source = df_source.reset_index()\n",
        "plt.pie(df_source['Property_Area'],labels=df_source['index'],autopct='%1.1f%%')\n",
        "plt.title('Percent distribution of  Property_Area')\n",
        "plt.axis('equal')\n",
        "    \n",
        "plt.tight_layout()\n",
        "plt.show()"
      ],
      "id": "64010e8d"
    },
    {
      "cell_type": "markdown",
      "metadata": {
        "id": "c4b61f59"
      },
      "source": [
        "# FEATURE VS TARGET"
      ],
      "id": "c4b61f59"
    },
    {
      "cell_type": "code",
      "execution_count": 55,
      "metadata": {
        "id": "6791744c"
      },
      "outputs": [],
      "source": [
        "# Loan_Status is a target variable"
      ],
      "id": "6791744c"
    },
    {
      "cell_type": "code",
      "execution_count": 56,
      "metadata": {
        "id": "0a512ef0"
      },
      "outputs": [],
      "source": [
        "x_train['Loan_Status']=x_train['Loan_Status'].map({'Y':1,'N':0})"
      ],
      "id": "0a512ef0"
    },
    {
      "cell_type": "code",
      "execution_count": 57,
      "metadata": {
        "id": "bd8f407f",
        "outputId": "c17478ee-b590-4689-8a12-932f06908473",
        "colab": {
          "base_uri": "https://localhost:8080/"
        }
      },
      "outputs": [
        {
          "output_type": "execute_result",
          "data": {
            "text/plain": [
              "array([1, 0])"
            ]
          },
          "metadata": {},
          "execution_count": 57
        }
      ],
      "source": [
        "x_train['Loan_Status'].unique()"
      ],
      "id": "bd8f407f"
    },
    {
      "cell_type": "code",
      "execution_count": 58,
      "metadata": {
        "id": "a6a6563c",
        "outputId": "0c8ea270-a11a-4e23-fdf7-10e4a42e824c",
        "colab": {
          "base_uri": "https://localhost:8080/"
        }
      },
      "outputs": [
        {
          "output_type": "execute_result",
          "data": {
            "text/plain": [
              "Index(['Gender', 'Married', 'Dependents', 'Education', 'Self_Employed',\n",
              "       'ApplicantIncome', 'CoapplicantIncome', 'LoanAmount',\n",
              "       'Loan_Amount_Term', 'Credit_History', 'Property_Area', 'Loan_Status'],\n",
              "      dtype='object')"
            ]
          },
          "metadata": {},
          "execution_count": 58
        }
      ],
      "source": [
        "x_train.columns"
      ],
      "id": "a6a6563c"
    },
    {
      "cell_type": "code",
      "execution_count": 59,
      "metadata": {
        "id": "de902b63",
        "outputId": "919f5ee2-2ae0-4347-881f-612447f3cb26",
        "colab": {
          "base_uri": "https://localhost:8080/",
          "height": 1000
        }
      },
      "outputs": [
        {
          "output_type": "display_data",
          "data": {
            "text/plain": [
              "<Figure size 1152x1296 with 6 Axes>"
            ],
            "image/png": "[encoded data removed]"
          },
          "metadata": {
            "needs_background": "light"
          }
        },
        {
          "output_type": "display_data",
          "data": {
            "text/plain": [
              "<Figure size 432x288 with 0 Axes>"
            ]
          },
          "metadata": {}
        }
      ],
      "source": [
        "plt.figure(figsize=(16,18))\n",
        "\n",
        "plt.subplot(231)\n",
        "sns.barplot(x='Gender',y='Loan_Status',data=x_train)\n",
        "plt.title('Gender vs Loanstatus')\n",
        "\n",
        "plt.subplot(232)\n",
        "sns.barplot(x='Married',y='Loan_Status',data=x_train)\n",
        "plt.title('Married vs Loanstatus')\n",
        "\n",
        "plt.subplot(233)\n",
        "sns.barplot(x='Dependents',y='Loan_Status',data=x_train)\n",
        "plt.title('Dependents vs Loanstatus')\n",
        "\n",
        "plt.subplot(234)\n",
        "sns.barplot(x='Education',y='Loan_Status',data=x_train)\n",
        "plt.title('Education vs Loanstatus')\n",
        "\n",
        "plt.subplot(235)\n",
        "sns.barplot(x='Self_Employed',y='Loan_Status',data=x_train)\n",
        "plt.title('Self_Employed vs Loanstatus')\n",
        "\n",
        "plt.subplot(236)\n",
        "sns.barplot(x='Property_Area',y='Loan_Status',data=x_train)\n",
        "plt.title('Property_Area vs Loanstatus')\n",
        "\n",
        "plt.show()\n",
        "plt.tight_layout()"
      ],
      "id": "de902b63"
    },
    {
      "cell_type": "code",
      "execution_count": 60,
      "metadata": {
        "id": "3064e29b",
        "outputId": "7c262023-ccb4-43b9-9424-9b6301eade8d",
        "colab": {
          "base_uri": "https://localhost:8080/",
          "height": 654
        }
      },
      "outputs": [
        {
          "output_type": "display_data",
          "data": {
            "text/plain": [
              "<Figure size 1080x576 with 2 Axes>"
            ],
            "image/png": "[encoded data removed]"
          },
          "metadata": {
            "needs_background": "light"
          }
        },
        {
          "output_type": "stream",
          "name": "stdout",
          "text": [
            "\n",
            "                  ApplicantIncome  Loan_Status\n",
            "ApplicantIncome         1.000000    -0.015526\n",
            "Loan_Status            -0.015526     1.000000\n",
            "\n",
            "                    CoapplicantIncome  Loan_Status\n",
            "CoapplicantIncome           1.000000    -0.040646\n",
            "Loan_Status                -0.040646     1.000000\n"
          ]
        },
        {
          "output_type": "display_data",
          "data": {
            "text/plain": [
              "<Figure size 432x288 with 0 Axes>"
            ]
          },
          "metadata": {}
        }
      ],
      "source": [
        "plt.figure(figsize=(15,8))\n",
        "\n",
        "plt.subplot(121)\n",
        "sns.regplot(x=x_train['Loan_Status'],y=x_train['ApplicantIncome'],scatter_kws={'color':'indigo'},line_kws={'color':'red'})\n",
        "\n",
        "plt.subplot(122)\n",
        "sns.regplot(x=x_train['Loan_Status'],y=x_train['CoapplicantIncome'],scatter_kws={'color':'indigo'},line_kws={'color':'red'})\n",
        "\n",
        "plt.show()\n",
        "plt.tight_layout()\n",
        "print('\\n',x_train[['ApplicantIncome','Loan_Status']].corr())\n",
        "print('\\n',x_train[['CoapplicantIncome','Loan_Status']].corr())"
      ],
      "id": "3064e29b"
    },
    {
      "cell_type": "code",
      "execution_count": 61,
      "metadata": {
        "id": "0d243060",
        "outputId": "c0d14e0c-7c08-4b69-df09-9b868f9031ab",
        "colab": {
          "base_uri": "https://localhost:8080/",
          "height": 656
        }
      },
      "outputs": [
        {
          "output_type": "display_data",
          "data": {
            "text/plain": [
              "<Figure size 1080x576 with 2 Axes>"
            ],
            "image/png": "[encoded data removed]"
          },
          "metadata": {
            "needs_background": "light"
          }
        },
        {
          "output_type": "stream",
          "name": "stdout",
          "text": [
            "\n",
            "              LoanAmount  Loan_Status\n",
            "LoanAmount     1.000000    -0.040986\n",
            "Loan_Status   -0.040986     1.000000\n",
            "\n",
            "                   Loan_Amount_Term  Loan_Status\n",
            "Loan_Amount_Term          1.000000    -0.002297\n",
            "Loan_Status              -0.002297     1.000000\n"
          ]
        },
        {
          "output_type": "display_data",
          "data": {
            "text/plain": [
              "<Figure size 432x288 with 0 Axes>"
            ]
          },
          "metadata": {}
        }
      ],
      "source": [
        "plt.figure(figsize=(15,8))\n",
        "\n",
        "plt.subplot(121)\n",
        "sns.regplot(x=x_train['Loan_Status'],y=x_train['LoanAmount'],scatter_kws={'color':'indigo'},line_kws={'color':'red'})\n",
        "\n",
        "plt.subplot(122)\n",
        "sns.regplot(x=x_train['Loan_Status'],y=x_train['Loan_Amount_Term'],scatter_kws={'color':'indigo'},line_kws={'color':'red'})\n",
        "\n",
        "plt.show()\n",
        "plt.tight_layout()\n",
        "print('\\n',x_train[['LoanAmount','Loan_Status']].corr())\n",
        "print('\\n',x_train[['Loan_Amount_Term','Loan_Status']].corr())"
      ],
      "id": "0d243060"
    },
    {
      "cell_type": "code",
      "execution_count": 62,
      "metadata": {
        "id": "400fe533",
        "outputId": "9130e094-753a-4aac-c1c7-32a9c74c4079",
        "colab": {
          "base_uri": "https://localhost:8080/",
          "height": 349
        }
      },
      "outputs": [
        {
          "output_type": "stream",
          "name": "stdout",
          "text": [
            "\n",
            "                 Credit_History  Loan_Status\n",
            "Credit_History        1.000000     0.550272\n",
            "Loan_Status           0.550272     1.000000\n"
          ]
        },
        {
          "output_type": "display_data",
          "data": {
            "text/plain": [
              "<Figure size 432x288 with 1 Axes>"
            ],
            "image/png": "[encoded data removed]"
          },
          "metadata": {
            "needs_background": "light"
          }
        }
      ],
      "source": [
        "sns.regplot(x=x_train['Loan_Status'],y=x_train['Credit_History'],scatter_kws={'color':'indigo'},line_kws={'color':'red'})\n",
        "print('\\n',x_train[['Credit_History','Loan_Status']].corr())"
      ],
      "id": "400fe533"
    },
    {
      "cell_type": "code",
      "execution_count": 63,
      "metadata": {
        "id": "v-fzbz6GdTjO",
        "colab": {
          "base_uri": "https://localhost:8080/",
          "height": 531
        },
        "outputId": "85b0df62-a1fd-41df-b969-55f54f149eae"
      },
      "outputs": [
        {
          "output_type": "display_data",
          "data": {
            "text/plain": [
              "<Figure size 1080x576 with 2 Axes>"
            ],
            "image/png": "[encoded data removed]"
          },
          "metadata": {
            "needs_background": "light"
          }
        },
        {
          "output_type": "display_data",
          "data": {
            "text/plain": [
              "<Figure size 432x288 with 0 Axes>"
            ]
          },
          "metadata": {}
        }
      ],
      "source": [
        "plt.figure(figsize=(15,8))\n",
        "\n",
        "plt.subplot(121)\n",
        "sns.histplot(data=x_train, x=\"LoanAmount\", hue=\"Loan_Status\", multiple=\"stack\")\n",
        "plt.title('LOANAMOUNT VS LOANSTATUS')\n",
        "\n",
        "plt.subplot(122)\n",
        "sns.histplot(data=x_train, x=\"Loan_Amount_Term\", hue=\"Loan_Status\", multiple=\"stack\")\n",
        "plt.title('LOANAMOUNT_TERM VS LOANSTATUS')\n",
        "plt.show()\n",
        "plt.tight_layout()\n"
      ],
      "id": "v-fzbz6GdTjO"
    },
    {
      "cell_type": "code",
      "source": [
        "plt.figure(figsize=(15,8))\n",
        "\n",
        "plt.subplot(121)\n",
        "sns.histplot(data=x_train, x=\"ApplicantIncome\", hue=\"Loan_Status\", multiple=\"stack\")\n",
        "plt.title('APPLICANTINCOME VS LOANSTATUS')\n",
        "\n",
        "plt.subplot(122)\n",
        "sns.histplot(data=x_train, x=\"ApplicantIncome\", hue=\"Loan_Status\", multiple=\"stack\")\n",
        "plt.title('CO-APPLICANTINCOME VS LOANSTATUS')\n",
        "plt.show()\n",
        "plt.tight_layout()\n"
      ],
      "metadata": {
        "colab": {
          "base_uri": "https://localhost:8080/",
          "height": 530
        },
        "id": "I8ibB4PIw2oC",
        "outputId": "b29a8e01-98e0-4815-d061-7b5f439128cf"
      },
      "id": "I8ibB4PIw2oC",
      "execution_count": 64,
      "outputs": [
        {
          "output_type": "display_data",
          "data": {
            "text/plain": [
              "<Figure size 1080x576 with 2 Axes>"
            ],
            "image/png": "[encoded data removed]"
          },
          "metadata": {
            "needs_background": "light"
          }
        },
        {
          "output_type": "display_data",
          "data": {
            "text/plain": [
              "<Figure size 432x288 with 0 Axes>"
            ]
          },
          "metadata": {}
        }
      ]
    },
    {
      "cell_type": "code",
      "source": [
        "sns.histplot(data=x_train, x=\"Credit_History\", hue=\"Loan_Status\", multiple=\"stack\")\n",
        "plt.title('CREDIT_HISTORY VS LOANSTATUS')\n",
        "plt.show()\n",
        "plt.tight_layout()"
      ],
      "metadata": {
        "colab": {
          "base_uri": "https://localhost:8080/",
          "height": 313
        },
        "id": "qpd0-rTYxGq_",
        "outputId": "7e7d6103-5e78-4c48-a79c-da005b7b7298"
      },
      "id": "qpd0-rTYxGq_",
      "execution_count": 65,
      "outputs": [
        {
          "output_type": "display_data",
          "data": {
            "text/plain": [
              "<Figure size 432x288 with 1 Axes>"
            ],
            "image/png": "[encoded data removed]"
          },
          "metadata": {
            "needs_background": "light"
          }
        },
        {
          "output_type": "display_data",
          "data": {
            "text/plain": [
              "<Figure size 432x288 with 0 Axes>"
            ]
          },
          "metadata": {}
        }
      ]
    },
    {
      "cell_type": "markdown",
      "metadata": {
        "id": "042e0643"
      },
      "source": [
        "### COMPARING TARGET VARIABLE(Loan status) & LOAN AMOUNT WITH VARIOUS FEATURES "
      ],
      "id": "042e0643"
    },
    {
      "cell_type": "code",
      "execution_count": 66,
      "metadata": {
        "id": "b70dc761",
        "outputId": "68e2351c-1bbc-4d80-9301-02664625d089",
        "colab": {
          "base_uri": "https://localhost:8080/",
          "height": 533
        }
      },
      "outputs": [
        {
          "output_type": "display_data",
          "data": {
            "text/plain": [
              "<Figure size 720x576 with 1 Axes>"
            ],
            "image/png": "[encoded data removed]"
          },
          "metadata": {
            "needs_background": "light"
          }
        }
      ],
      "source": [
        "import seaborn as sns\n",
        "plt.figure(figsize=(10, 8))\n",
        "sns.scatterplot(x='ApplicantIncome', y='LoanAmount', hue='Loan_Status', data=x_train, s=200)\n",
        "plt.title(\"ApplicantIncome vs LoanAmount vs admitted\", y=1.015, fontsize=20)\n",
        "plt.xlabel(\"ApplicantIncome\", labelpad=13)\n",
        "plt.ylabel(\"LoanAmount\", labelpad=13)\n",
        "ax = plt.gca()"
      ],
      "id": "b70dc761"
    },
    {
      "cell_type": "markdown",
      "source": [
        "There is an relation b/w applicant income and loan amount.\n",
        "\n",
        "The loan amount depends on the applicant income.\n",
        "\n",
        "In some places applicant income is low but loan amount is high in that case they are not admitted."
      ],
      "metadata": {
        "id": "A2lSKb0ys7GW"
      },
      "id": "A2lSKb0ys7GW"
    },
    {
      "cell_type": "code",
      "execution_count": 67,
      "metadata": {
        "id": "30380a17",
        "outputId": "34d3fe21-949a-43de-e7ed-116e24720676",
        "colab": {
          "base_uri": "https://localhost:8080/",
          "height": 533
        }
      },
      "outputs": [
        {
          "output_type": "display_data",
          "data": {
            "text/plain": [
              "<Figure size 720x576 with 1 Axes>"
            ],
            "image/png": "[encoded data removed]"
          },
          "metadata": {
            "needs_background": "light"
          }
        }
      ],
      "source": [
        "import seaborn as sns\n",
        "plt.figure(figsize=(10, 8))\n",
        "sns.scatterplot(x='CoapplicantIncome', y='LoanAmount', hue='Loan_Status', data=x_train, s=200)\n",
        "plt.title(\"CoapplicantIncome vs LoanAmount vs admitted\", y=1.015, fontsize=20)\n",
        "plt.xlabel(\"CoapplicantIncome\", labelpad=13)\n",
        "plt.ylabel(\"LoanAmount\", labelpad=13)\n",
        "ax = plt.gca()"
      ],
      "id": "30380a17"
    },
    {
      "cell_type": "code",
      "execution_count": 67,
      "metadata": {
        "id": "caee9477"
      },
      "outputs": [],
      "source": [],
      "id": "caee9477"
    },
    {
      "cell_type": "code",
      "execution_count": 68,
      "metadata": {
        "id": "e40ac2b4",
        "outputId": "9451fbaf-0788-4b4c-b023-2e8fd823214c",
        "colab": {
          "base_uri": "https://localhost:8080/",
          "height": 534
        }
      },
      "outputs": [
        {
          "output_type": "display_data",
          "data": {
            "text/plain": [
              "<Figure size 720x576 with 1 Axes>"
            ],
            "image/png": "[encoded data removed]"
          },
          "metadata": {
            "needs_background": "light"
          }
        }
      ],
      "source": [
        "import seaborn as sns\n",
        "plt.figure(figsize=(10, 8))\n",
        "sns.scatterplot(x='Self_Employed', y='LoanAmount', hue='Loan_Status', data=x_train, s=200)\n",
        "plt.title(\"Self_Employed vs LoanAmount vs admitted\", y=1.015, fontsize=20)\n",
        "plt.xlabel(\"Self_Employed\", labelpad=13)\n",
        "plt.ylabel(\"LoanAmount\", labelpad=13)\n",
        "ax = plt.gca()"
      ],
      "id": "e40ac2b4"
    },
    {
      "cell_type": "markdown",
      "source": [
        "Self employed peoples admitted for loan is low in range.\n",
        "\n",
        "The non-selfemployed one can recieve more loan amount than self employed one."
      ],
      "metadata": {
        "id": "v6WC8mALs-qD"
      },
      "id": "v6WC8mALs-qD"
    },
    {
      "cell_type": "code",
      "execution_count": 68,
      "metadata": {
        "id": "e830c7bd"
      },
      "outputs": [],
      "source": [],
      "id": "e830c7bd"
    },
    {
      "cell_type": "markdown",
      "metadata": {
        "id": "f9ccad25"
      },
      "source": [
        "# ENCODE THE DATA"
      ],
      "id": "f9ccad25"
    },
    {
      "cell_type": "code",
      "execution_count": 69,
      "metadata": {
        "id": "b1f74773",
        "outputId": "e3b81141-068a-4b48-a4a6-71a072b96834",
        "colab": {
          "base_uri": "https://localhost:8080/"
        }
      },
      "outputs": [
        {
          "output_type": "execute_result",
          "data": {
            "text/plain": [
              "Gender                object\n",
              "Married               object\n",
              "Dependents            object\n",
              "Education             object\n",
              "Self_Employed         object\n",
              "ApplicantIncome        int64\n",
              "CoapplicantIncome    float64\n",
              "LoanAmount           float64\n",
              "Loan_Amount_Term     float64\n",
              "Credit_History         int64\n",
              "Property_Area         object\n",
              "Loan_Status            int64\n",
              "dtype: object"
            ]
          },
          "metadata": {},
          "execution_count": 69
        }
      ],
      "source": [
        "x_train.dtypes"
      ],
      "id": "b1f74773"
    },
    {
      "cell_type": "code",
      "execution_count": 70,
      "metadata": {
        "id": "8069681c",
        "outputId": "20540756-632d-4f59-e573-b291b116f6fe",
        "colab": {
          "base_uri": "https://localhost:8080/"
        }
      },
      "outputs": [
        {
          "output_type": "execute_result",
          "data": {
            "text/plain": [
              "Gender                object\n",
              "Married               object\n",
              "Dependents            object\n",
              "Education             object\n",
              "Self_Employed         object\n",
              "ApplicantIncome        int64\n",
              "CoapplicantIncome      int64\n",
              "LoanAmount           float64\n",
              "Loan_Amount_Term     float64\n",
              "Credit_History         int64\n",
              "Property_Area         object\n",
              "dtype: object"
            ]
          },
          "metadata": {},
          "execution_count": 70
        }
      ],
      "source": [
        "x_test.dtypes"
      ],
      "id": "8069681c"
    },
    {
      "cell_type": "code",
      "execution_count": 71,
      "metadata": {
        "id": "8a83344d",
        "outputId": "92294d35-de1f-4a0b-8415-123342ff8b32",
        "colab": {
          "base_uri": "https://localhost:8080/",
          "height": 206
        }
      },
      "outputs": [
        {
          "output_type": "execute_result",
          "data": {
            "text/plain": [
              "   Gender  Married  Dependents  Education  Self_Employed  ApplicantIncome  \\\n",
              "0       0        0           2          1              0             5849   \n",
              "1       0        1           0          1              0             4583   \n",
              "2       0        1           2          1              1             3000   \n",
              "3       0        1           2          0              0             2583   \n",
              "4       0        0           2          1              0             6000   \n",
              "\n",
              "   CoapplicantIncome  LoanAmount  Loan_Amount_Term  Credit_History  \\\n",
              "0                0.0  146.412162             360.0               1   \n",
              "1             1508.0  128.000000             360.0               1   \n",
              "2                0.0   66.000000             360.0               1   \n",
              "3             2358.0  120.000000             360.0               1   \n",
              "4                0.0  141.000000             360.0               1   \n",
              "\n",
              "   Property_Area  Loan_Status  \n",
              "0              1            1  \n",
              "1              0            0  \n",
              "2              1            1  \n",
              "3              1            1  \n",
              "4              1            1  "
            ],
            "text/html": [
              "\n",
              "  <div id=\"df-1097b7ba-956c-4a81-9fc1-c81825d84732\">\n",
              "    <div class=\"colab-df-container\">\n",
              "      <div>\n",
              "<style scoped>\n",
              "    .dataframe tbody tr th:only-of-type {\n",
              "        vertical-align: middle;\n",
              "    }\n",
              "\n",
              "    .dataframe tbody tr th {\n",
              "        vertical-align: top;\n",
              "    }\n",
              "\n",
              "    .dataframe thead th {\n",
              "        text-align: right;\n",
              "    }\n",
              "</style>\n",
              "<table border=\"1\" class=\"dataframe\">\n",
              "  <thead>\n",
              "    <tr style=\"text-align: right;\">\n",
              "      <th></th>\n",
              "      <th>Gender</th>\n",
              "      <th>Married</th>\n",
              "      <th>Dependents</th>\n",
              "      <th>Education</th>\n",
              "      <th>Self_Employed</th>\n",
              "      <th>ApplicantIncome</th>\n",
              "      <th>CoapplicantIncome</th>\n",
              "      <th>LoanAmount</th>\n",
              "      <th>Loan_Amount_Term</th>\n",
              "      <th>Credit_History</th>\n",
              "      <th>Property_Area</th>\n",
              "      <th>Loan_Status</th>\n",
              "    </tr>\n",
              "  </thead>\n",
              "  <tbody>\n",
              "    <tr>\n",
              "      <th>0</th>\n",
              "      <td>0</td>\n",
              "      <td>0</td>\n",
              "      <td>2</td>\n",
              "      <td>1</td>\n",
              "      <td>0</td>\n",
              "      <td>5849</td>\n",
              "      <td>0.0</td>\n",
              "      <td>146.412162</td>\n",
              "      <td>360.0</td>\n",
              "      <td>1</td>\n",
              "      <td>1</td>\n",
              "      <td>1</td>\n",
              "    </tr>\n",
              "    <tr>\n",
              "      <th>1</th>\n",
              "      <td>0</td>\n",
              "      <td>1</td>\n",
              "      <td>0</td>\n",
              "      <td>1</td>\n",
              "      <td>0</td>\n",
              "      <td>4583</td>\n",
              "      <td>1508.0</td>\n",
              "      <td>128.000000</td>\n",
              "      <td>360.0</td>\n",
              "      <td>1</td>\n",
              "      <td>0</td>\n",
              "      <td>0</td>\n",
              "    </tr>\n",
              "    <tr>\n",
              "      <th>2</th>\n",
              "      <td>0</td>\n",
              "      <td>1</td>\n",
              "      <td>2</td>\n",
              "      <td>1</td>\n",
              "      <td>1</td>\n",
              "      <td>3000</td>\n",
              "      <td>0.0</td>\n",
              "      <td>66.000000</td>\n",
              "      <td>360.0</td>\n",
              "      <td>1</td>\n",
              "      <td>1</td>\n",
              "      <td>1</td>\n",
              "    </tr>\n",
              "    <tr>\n",
              "      <th>3</th>\n",
              "      <td>0</td>\n",
              "      <td>1</td>\n",
              "      <td>2</td>\n",
              "      <td>0</td>\n",
              "      <td>0</td>\n",
              "      <td>2583</td>\n",
              "      <td>2358.0</td>\n",
              "      <td>120.000000</td>\n",
              "      <td>360.0</td>\n",
              "      <td>1</td>\n",
              "      <td>1</td>\n",
              "      <td>1</td>\n",
              "    </tr>\n",
              "    <tr>\n",
              "      <th>4</th>\n",
              "      <td>0</td>\n",
              "      <td>0</td>\n",
              "      <td>2</td>\n",
              "      <td>1</td>\n",
              "      <td>0</td>\n",
              "      <td>6000</td>\n",
              "      <td>0.0</td>\n",
              "      <td>141.000000</td>\n",
              "      <td>360.0</td>\n",
              "      <td>1</td>\n",
              "      <td>1</td>\n",
              "      <td>1</td>\n",
              "    </tr>\n",
              "  </tbody>\n",
              "</table>\n",
              "</div>\n",
              "      <button class=\"colab-df-convert\" onclick=\"convertToInteractive('df-1097b7ba-956c-4a81-9fc1-c81825d84732')\"\n",
              "              title=\"Convert this dataframe to an interactive table.\"\n",
              "              style=\"display:none;\">\n",
              "        \n",
              "  <svg xmlns=\"http://www.w3.org/2000/svg\" height=\"24px\"viewBox=\"0 0 24 24\"\n",
              "       width=\"24px\">\n",
              "    <path d=\"M0 0h24v24H0V0z\" fill=\"none\"/>\n",
              "    <path d=\"M18.56 5.44l.94 2.06.94-2.06 2.06-.94-2.06-.94-.94-2.06-.94 2.06-2.06.94zm-11 1L8.5 8.5l.94-2.06 2.06-.94-2.06-.94L8.5 2.5l-.94 2.06-2.06.94zm10 10l.94 2.06.94-2.06 2.06-.94-2.06-.94-.94-2.06-.94 2.06-2.06.94z\"/><path d=\"M17.41 7.96l-1.37-1.37c-.4-.4-.92-.59-1.43-.59-.52 0-1.04.2-1.43.59L10.3 9.45l-7.72 7.72c-.78.78-.78 2.05 0 2.83L4 21.41c.39.39.9.59 1.41.59.51 0 1.02-.2 1.41-.59l7.78-7.78 2.81-2.81c.8-.78.8-2.07 0-2.86zM5.41 20L4 18.59l7.72-7.72 1.47 1.35L5.41 20z\"/>\n",
              "  </svg>\n",
              "      </button>\n",
              "      \n",
              "  <style>\n",
              "    .colab-df-container {\n",
              "      display:flex;\n",
              "      flex-wrap:wrap;\n",
              "      gap: 12px;\n",
              "    }\n",
              "\n",
              "    .colab-df-convert {\n",
              "      background-color: #E8F0FE;\n",
              "      border: none;\n",
              "      border-radius: 50%;\n",
              "      cursor: pointer;\n",
              "      display: none;\n",
              "      fill: #1967D2;\n",
              "      height: 32px;\n",
              "      padding: 0 0 0 0;\n",
              "      width: 32px;\n",
              "    }\n",
              "\n",
              "    .colab-df-convert:hover {\n",
              "      background-color: #E2EBFA;\n",
              "      box-shadow: 0px 1px 2px rgba(60, 64, 67, 0.3), 0px 1px 3px 1px rgba(60, 64, 67, 0.15);\n",
              "      fill: #174EA6;\n",
              "    }\n",
              "\n",
              "    [theme=dark] .colab-df-convert {\n",
              "      background-color: #3B4455;\n",
              "      fill: #D2E3FC;\n",
              "    }\n",
              "\n",
              "    [theme=dark] .colab-df-convert:hover {\n",
              "      background-color: #434B5C;\n",
              "      box-shadow: 0px 1px 3px 1px rgba(0, 0, 0, 0.15);\n",
              "      filter: drop-shadow(0px 1px 2px rgba(0, 0, 0, 0.3));\n",
              "      fill: #FFFFFF;\n",
              "    }\n",
              "  </style>\n",
              "\n",
              "      <script>\n",
              "        const buttonEl =\n",
              "          document.querySelector('#df-1097b7ba-956c-4a81-9fc1-c81825d84732 button.colab-df-convert');\n",
              "        buttonEl.style.display =\n",
              "          google.colab.kernel.accessAllowed ? 'block' : 'none';\n",
              "\n",
              "        async function convertToInteractive(key) {\n",
              "          const element = document.querySelector('#df-1097b7ba-956c-4a81-9fc1-c81825d84732');\n",
              "          const dataTable =\n",
              "            await google.colab.kernel.invokeFunction('convertToInteractive',\n",
              "                                                     [key], {});\n",
              "          if (!dataTable) return;\n",
              "\n",
              "          const docLinkHtml = 'Like what you see? Visit the ' +\n",
              "            '<a target=\"_blank\" href=https://colab.research.google.com/notebooks/data_table.ipynb>data table notebook</a>'\n",
              "            + ' to learn more about interactive tables.';\n",
              "          element.innerHTML = '';\n",
              "          dataTable['output_type'] = 'display_data';\n",
              "          await google.colab.output.renderOutput(dataTable, element);\n",
              "          const docLink = document.createElement('div');\n",
              "          docLink.innerHTML = docLinkHtml;\n",
              "          element.appendChild(docLink);\n",
              "        }\n",
              "      </script>\n",
              "    </div>\n",
              "  </div>\n",
              "  "
            ]
          },
          "metadata": {},
          "execution_count": 71
        }
      ],
      "source": [
        "x_train['Gender']=x_train['Gender'].map({'Male':0,'Female':1})\n",
        "x_train['Married']=x_train['Married'].map({'No':0,'Yes':1})\n",
        "x_train['Dependents']=x_train['Dependents'].map({'0':2,'2':3,'1':0,\"3+\":1})\n",
        "x_train['Education']=x_train['Education'].map({'Not Graduate':0,'Graduate':1})\n",
        "x_train['Self_Employed']=x_train['Self_Employed'].map({'No':0,'Yes':1})\n",
        "x_train['Property_Area']=x_train['Property_Area'].map({'Rural':0,'Urban':1,'Semiurban':2})\n",
        "x_train.head()"
      ],
      "id": "8a83344d"
    },
    {
      "cell_type": "code",
      "execution_count": 72,
      "metadata": {
        "id": "fbe9aefc",
        "outputId": "066390f2-17b0-4a5a-cf57-4e4436d6f10c",
        "colab": {
          "base_uri": "https://localhost:8080/",
          "height": 206
        }
      },
      "outputs": [
        {
          "output_type": "execute_result",
          "data": {
            "text/plain": [
              "   Gender  Married  Dependents  Education  Self_Employed  ApplicantIncome  \\\n",
              "0       0        1           2          1              0             5720   \n",
              "1       0        1           0          1              0             3076   \n",
              "2       0        1           3          1              0             5000   \n",
              "4       0        0           2          0              0             3276   \n",
              "5       0        1           2          0              1             2165   \n",
              "\n",
              "   CoapplicantIncome  LoanAmount  Loan_Amount_Term  Credit_History  \\\n",
              "0                  0       110.0             360.0               1   \n",
              "1               1500       126.0             360.0               1   \n",
              "2               1800       208.0             360.0               1   \n",
              "4                  0        78.0             360.0               1   \n",
              "5               3422       152.0             360.0               1   \n",
              "\n",
              "   Property_Area  \n",
              "0              1  \n",
              "1              1  \n",
              "2              1  \n",
              "4              1  \n",
              "5              1  "
            ],
            "text/html": [
              "\n",
              "  <div id=\"df-00f422bf-d5ff-482d-8792-1125b534ba9a\">\n",
              "    <div class=\"colab-df-container\">\n",
              "      <div>\n",
              "<style scoped>\n",
              "    .dataframe tbody tr th:only-of-type {\n",
              "        vertical-align: middle;\n",
              "    }\n",
              "\n",
              "    .dataframe tbody tr th {\n",
              "        vertical-align: top;\n",
              "    }\n",
              "\n",
              "    .dataframe thead th {\n",
              "        text-align: right;\n",
              "    }\n",
              "</style>\n",
              "<table border=\"1\" class=\"dataframe\">\n",
              "  <thead>\n",
              "    <tr style=\"text-align: right;\">\n",
              "      <th></th>\n",
              "      <th>Gender</th>\n",
              "      <th>Married</th>\n",
              "      <th>Dependents</th>\n",
              "      <th>Education</th>\n",
              "      <th>Self_Employed</th>\n",
              "      <th>ApplicantIncome</th>\n",
              "      <th>CoapplicantIncome</th>\n",
              "      <th>LoanAmount</th>\n",
              "      <th>Loan_Amount_Term</th>\n",
              "      <th>Credit_History</th>\n",
              "      <th>Property_Area</th>\n",
              "    </tr>\n",
              "  </thead>\n",
              "  <tbody>\n",
              "    <tr>\n",
              "      <th>0</th>\n",
              "      <td>0</td>\n",
              "      <td>1</td>\n",
              "      <td>2</td>\n",
              "      <td>1</td>\n",
              "      <td>0</td>\n",
              "      <td>5720</td>\n",
              "      <td>0</td>\n",
              "      <td>110.0</td>\n",
              "      <td>360.0</td>\n",
              "      <td>1</td>\n",
              "      <td>1</td>\n",
              "    </tr>\n",
              "    <tr>\n",
              "      <th>1</th>\n",
              "      <td>0</td>\n",
              "      <td>1</td>\n",
              "      <td>0</td>\n",
              "      <td>1</td>\n",
              "      <td>0</td>\n",
              "      <td>3076</td>\n",
              "      <td>1500</td>\n",
              "      <td>126.0</td>\n",
              "      <td>360.0</td>\n",
              "      <td>1</td>\n",
              "      <td>1</td>\n",
              "    </tr>\n",
              "    <tr>\n",
              "      <th>2</th>\n",
              "      <td>0</td>\n",
              "      <td>1</td>\n",
              "      <td>3</td>\n",
              "      <td>1</td>\n",
              "      <td>0</td>\n",
              "      <td>5000</td>\n",
              "      <td>1800</td>\n",
              "      <td>208.0</td>\n",
              "      <td>360.0</td>\n",
              "      <td>1</td>\n",
              "      <td>1</td>\n",
              "    </tr>\n",
              "    <tr>\n",
              "      <th>4</th>\n",
              "      <td>0</td>\n",
              "      <td>0</td>\n",
              "      <td>2</td>\n",
              "      <td>0</td>\n",
              "      <td>0</td>\n",
              "      <td>3276</td>\n",
              "      <td>0</td>\n",
              "      <td>78.0</td>\n",
              "      <td>360.0</td>\n",
              "      <td>1</td>\n",
              "      <td>1</td>\n",
              "    </tr>\n",
              "    <tr>\n",
              "      <th>5</th>\n",
              "      <td>0</td>\n",
              "      <td>1</td>\n",
              "      <td>2</td>\n",
              "      <td>0</td>\n",
              "      <td>1</td>\n",
              "      <td>2165</td>\n",
              "      <td>3422</td>\n",
              "      <td>152.0</td>\n",
              "      <td>360.0</td>\n",
              "      <td>1</td>\n",
              "      <td>1</td>\n",
              "    </tr>\n",
              "  </tbody>\n",
              "</table>\n",
              "</div>\n",
              "      <button class=\"colab-df-convert\" onclick=\"convertToInteractive('df-00f422bf-d5ff-482d-8792-1125b534ba9a')\"\n",
              "              title=\"Convert this dataframe to an interactive table.\"\n",
              "              style=\"display:none;\">\n",
              "        \n",
              "  <svg xmlns=\"http://www.w3.org/2000/svg\" height=\"24px\"viewBox=\"0 0 24 24\"\n",
              "       width=\"24px\">\n",
              "    <path d=\"M0 0h24v24H0V0z\" fill=\"none\"/>\n",
              "    <path d=\"M18.56 5.44l.94 2.06.94-2.06 2.06-.94-2.06-.94-.94-2.06-.94 2.06-2.06.94zm-11 1L8.5 8.5l.94-2.06 2.06-.94-2.06-.94L8.5 2.5l-.94 2.06-2.06.94zm10 10l.94 2.06.94-2.06 2.06-.94-2.06-.94-.94-2.06-.94 2.06-2.06.94z\"/><path d=\"M17.41 7.96l-1.37-1.37c-.4-.4-.92-.59-1.43-.59-.52 0-1.04.2-1.43.59L10.3 9.45l-7.72 7.72c-.78.78-.78 2.05 0 2.83L4 21.41c.39.39.9.59 1.41.59.51 0 1.02-.2 1.41-.59l7.78-7.78 2.81-2.81c.8-.78.8-2.07 0-2.86zM5.41 20L4 18.59l7.72-7.72 1.47 1.35L5.41 20z\"/>\n",
              "  </svg>\n",
              "      </button>\n",
              "      \n",
              "  <style>\n",
              "    .colab-df-container {\n",
              "      display:flex;\n",
              "      flex-wrap:wrap;\n",
              "      gap: 12px;\n",
              "    }\n",
              "\n",
              "    .colab-df-convert {\n",
              "      background-color: #E8F0FE;\n",
              "      border: none;\n",
              "      border-radius: 50%;\n",
              "      cursor: pointer;\n",
              "      display: none;\n",
              "      fill: #1967D2;\n",
              "      height: 32px;\n",
              "      padding: 0 0 0 0;\n",
              "      width: 32px;\n",
              "    }\n",
              "\n",
              "    .colab-df-convert:hover {\n",
              "      background-color: #E2EBFA;\n",
              "      box-shadow: 0px 1px 2px rgba(60, 64, 67, 0.3), 0px 1px 3px 1px rgba(60, 64, 67, 0.15);\n",
              "      fill: #174EA6;\n",
              "    }\n",
              "\n",
              "    [theme=dark] .colab-df-convert {\n",
              "      background-color: #3B4455;\n",
              "      fill: #D2E3FC;\n",
              "    }\n",
              "\n",
              "    [theme=dark] .colab-df-convert:hover {\n",
              "      background-color: #434B5C;\n",
              "      box-shadow: 0px 1px 3px 1px rgba(0, 0, 0, 0.15);\n",
              "      filter: drop-shadow(0px 1px 2px rgba(0, 0, 0, 0.3));\n",
              "      fill: #FFFFFF;\n",
              "    }\n",
              "  </style>\n",
              "\n",
              "      <script>\n",
              "        const buttonEl =\n",
              "          document.querySelector('#df-00f422bf-d5ff-482d-8792-1125b534ba9a button.colab-df-convert');\n",
              "        buttonEl.style.display =\n",
              "          google.colab.kernel.accessAllowed ? 'block' : 'none';\n",
              "\n",
              "        async function convertToInteractive(key) {\n",
              "          const element = document.querySelector('#df-00f422bf-d5ff-482d-8792-1125b534ba9a');\n",
              "          const dataTable =\n",
              "            await google.colab.kernel.invokeFunction('convertToInteractive',\n",
              "                                                     [key], {});\n",
              "          if (!dataTable) return;\n",
              "\n",
              "          const docLinkHtml = 'Like what you see? Visit the ' +\n",
              "            '<a target=\"_blank\" href=https://colab.research.google.com/notebooks/data_table.ipynb>data table notebook</a>'\n",
              "            + ' to learn more about interactive tables.';\n",
              "          element.innerHTML = '';\n",
              "          dataTable['output_type'] = 'display_data';\n",
              "          await google.colab.output.renderOutput(dataTable, element);\n",
              "          const docLink = document.createElement('div');\n",
              "          docLink.innerHTML = docLinkHtml;\n",
              "          element.appendChild(docLink);\n",
              "        }\n",
              "      </script>\n",
              "    </div>\n",
              "  </div>\n",
              "  "
            ]
          },
          "metadata": {},
          "execution_count": 72
        }
      ],
      "source": [
        "x_test['Gender']=x_test['Gender'].map({'Male':0,'Female':1})\n",
        "x_test['Married']=x_test['Married'].map({'No':0,'Yes':1})\n",
        "x_test['Dependents']=x_test['Dependents'].map({'0':2,'2':3,'1':0,\"3+\":1})\n",
        "x_test['Education']=x_test['Education'].map({'Not Graduate':0,'Graduate':1})\n",
        "x_test['Self_Employed']=x_test['Self_Employed'].map({'No':0,'Yes':1})\n",
        "x_test['Property_Area']=x_test['Property_Area'].map({'Rural':0,'Urban':1,'Semiurban':2})\n",
        "x_test.head()"
      ],
      "id": "fbe9aefc"
    },
    {
      "cell_type": "code",
      "execution_count": 73,
      "metadata": {
        "id": "7f0fe970",
        "colab": {
          "base_uri": "https://localhost:8080/"
        },
        "outputId": "655caee4-6fa5-44b6-9c1a-48a1635dd0a9"
      },
      "outputs": [
        {
          "output_type": "execute_result",
          "data": {
            "text/plain": [
              "Gender               0\n",
              "Married              0\n",
              "Dependents           0\n",
              "Education            0\n",
              "Self_Employed        0\n",
              "ApplicantIncome      0\n",
              "CoapplicantIncome    0\n",
              "LoanAmount           0\n",
              "Loan_Amount_Term     0\n",
              "Credit_History       0\n",
              "Property_Area        0\n",
              "Loan_Status          0\n",
              "dtype: int64"
            ]
          },
          "metadata": {},
          "execution_count": 73
        }
      ],
      "source": [
        "x_train.isnull().sum()"
      ],
      "id": "7f0fe970"
    },
    {
      "cell_type": "markdown",
      "metadata": {
        "id": "ff1d227d"
      },
      "source": [
        "# SPLIT THE DATA"
      ],
      "id": "ff1d227d"
    },
    {
      "cell_type": "code",
      "execution_count": 74,
      "metadata": {
        "id": "826cad87",
        "outputId": "949fe3fa-6ec7-4b6e-9cd2-c9e015cb3823",
        "colab": {
          "base_uri": "https://localhost:8080/"
        }
      },
      "outputs": [
        {
          "output_type": "execute_result",
          "data": {
            "text/plain": [
              "Index(['Gender', 'Married', 'Dependents', 'Education', 'Self_Employed',\n",
              "       'ApplicantIncome', 'CoapplicantIncome', 'LoanAmount',\n",
              "       'Loan_Amount_Term', 'Credit_History', 'Property_Area', 'Loan_Status'],\n",
              "      dtype='object')"
            ]
          },
          "metadata": {},
          "execution_count": 74
        }
      ],
      "source": [
        "x_train.columns"
      ],
      "id": "826cad87"
    },
    {
      "cell_type": "code",
      "execution_count": 75,
      "metadata": {
        "id": "3f7c50c2"
      },
      "outputs": [],
      "source": [
        "X = x_train[['Gender', 'Married', 'Dependents', 'Education', 'Self_Employed',\n",
        "       'ApplicantIncome', 'CoapplicantIncome', 'LoanAmount',\n",
        "       'Loan_Amount_Term', 'Credit_History', 'Property_Area']].values\n",
        "y = x_train['Loan_Status'].values\n",
        "X_train,X_test,y_train,y_test = train_test_split(X,y,test_size=0.25,random_state=0)"
      ],
      "id": "3f7c50c2"
    },
    {
      "cell_type": "code",
      "execution_count": 76,
      "metadata": {
        "id": "b2e5e520",
        "outputId": "92baa181-223f-4659-bcde-19b25cd9e0a3",
        "colab": {
          "base_uri": "https://localhost:8080/"
        }
      },
      "outputs": [
        {
          "output_type": "execute_result",
          "data": {
            "text/plain": [
              "array([1, 0, 0, 1, 1, 0, 1, 1, 1, 1, 1, 0, 1, 1, 0, 1, 1, 1, 0, 1, 1, 0,\n",
              "       0, 1, 1, 0, 1, 0, 0, 0, 1, 0, 1, 1, 1, 1, 1, 1, 1, 1, 1, 0, 0, 1,\n",
              "       1, 1, 1, 1, 1, 1, 1, 1, 1, 1, 1, 1, 1, 1, 1, 1, 0, 0, 1, 1, 1, 1,\n",
              "       1, 0, 1, 1, 0, 1, 1, 1, 1, 1, 1, 0, 0, 1, 1, 1, 1, 1, 1, 0, 1, 0,\n",
              "       1, 1, 1, 0, 1, 0, 0, 0, 0, 1, 1, 1, 1, 0, 0, 1, 0, 1, 0, 0, 1, 0,\n",
              "       1, 0, 1, 0, 1, 1, 0, 0, 0, 1, 1, 1, 1, 0, 1, 1, 1, 0, 1, 1, 1, 1,\n",
              "       1, 1, 0, 1, 1, 1, 1, 1, 1, 1, 1, 1, 0, 1, 1, 1, 1, 0, 1, 1, 1, 1,\n",
              "       0, 1, 1, 0, 0, 1, 1, 0, 1, 1, 1, 1, 0, 1, 1, 0, 1, 1, 1, 1, 0, 1,\n",
              "       0, 0, 0, 0, 0, 1, 0, 0, 0, 1, 0, 1, 1, 1, 1, 1, 1, 1, 1, 1, 0, 1,\n",
              "       0, 0, 1, 1, 1, 0, 0, 1, 0, 1, 0, 1, 0, 1, 1, 1, 1, 0, 0, 0, 0, 0,\n",
              "       1, 1, 0, 1, 1, 1, 1, 1, 1, 1, 0, 1, 1, 1, 1, 1, 0, 1, 1, 1, 0, 1,\n",
              "       1, 0, 1, 0, 1, 1, 0, 0, 1, 0, 1, 1, 0, 0, 1, 0, 0, 1, 1, 1, 1, 1,\n",
              "       0, 1, 1, 0, 1, 0, 1, 1, 1, 1, 1, 0, 0, 1, 1, 0, 1, 0, 1, 1, 1, 0,\n",
              "       0, 1, 1, 1, 1, 1, 0, 0, 1, 0, 0, 1, 1, 1, 0, 0, 0, 1, 1, 1, 1, 1,\n",
              "       1, 1, 0, 1, 0, 0, 1, 1, 0, 0, 0, 1, 0, 0, 1, 0, 1, 1, 0, 1, 1, 1,\n",
              "       1, 1, 1, 1, 1, 0, 1, 0, 0, 1, 0, 0, 0, 1, 1, 1, 1, 1, 1, 1, 1, 0,\n",
              "       1, 1, 1, 0, 1, 0, 0, 1, 1, 0, 1, 1, 1, 0, 1, 1, 0, 1, 1, 1, 0, 1,\n",
              "       1, 1, 1, 0, 0, 1, 1, 1, 1, 1, 0, 0, 1, 0, 1, 0, 0, 1])"
            ]
          },
          "metadata": {},
          "execution_count": 76
        }
      ],
      "source": [
        "y_train"
      ],
      "id": "b2e5e520"
    },
    {
      "cell_type": "markdown",
      "metadata": {
        "id": "9d93eb49"
      },
      "source": [
        "# MODEL"
      ],
      "id": "9d93eb49"
    },
    {
      "cell_type": "code",
      "execution_count": 77,
      "metadata": {
        "id": "425524fc",
        "outputId": "313690d2-e62e-4174-c8c0-4921e03fdd30",
        "colab": {
          "base_uri": "https://localhost:8080/"
        }
      },
      "outputs": [
        {
          "output_type": "stream",
          "name": "stderr",
          "text": [
            "/usr/local/lib/python3.7/dist-packages/sklearn/linear_model/_logistic.py:818: ConvergenceWarning: lbfgs failed to converge (status=1):\n",
            "STOP: TOTAL NO. of ITERATIONS REACHED LIMIT.\n",
            "\n",
            "Increase the number of iterations (max_iter) or scale the data as shown in:\n",
            "    https://scikit-learn.org/stable/modules/preprocessing.html\n",
            "Please also refer to the documentation for alternative solver options:\n",
            "    https://scikit-learn.org/stable/modules/linear_model.html#logistic-regression\n",
            "  extra_warning_msg=_LOGISTIC_SOLVER_CONVERGENCE_MSG,\n"
          ]
        },
        {
          "output_type": "execute_result",
          "data": {
            "text/plain": [
              "array([0, 1, 1, 1, 1, 1, 1, 1, 1, 1, 1, 0, 1, 1, 1, 1, 1, 1, 1, 1, 0, 1,\n",
              "       0, 1, 1, 1, 1, 1, 1, 1, 1, 1, 0, 1, 1, 1, 1, 1, 1, 1, 1, 1, 1, 1,\n",
              "       1, 1, 1, 1, 1, 1, 1, 1, 1, 1, 1, 1, 1, 1, 1, 1, 1, 0, 1, 1, 1, 0,\n",
              "       1, 1, 1, 1, 1, 1, 1, 0, 0, 0, 1, 1, 1, 1, 1, 1, 1, 1, 1, 1, 1, 1,\n",
              "       1, 1, 1, 1, 1, 1, 1, 1, 0, 0, 1, 1, 1, 1, 1, 0, 1, 1, 0, 1, 1, 1,\n",
              "       1, 1, 1, 1, 1, 1, 1, 1, 1, 1, 0, 1, 1, 1, 1, 1, 0, 1, 1, 1, 1])"
            ]
          },
          "metadata": {},
          "execution_count": 77
        }
      ],
      "source": [
        "logistic_regression= LogisticRegression()\n",
        "logistic_regression.fit(X_train,y_train) \n",
        "y_pred=logistic_regression.predict(X_test)\n",
        "\n",
        "y_pred"
      ],
      "id": "425524fc"
    },
    {
      "cell_type": "code",
      "execution_count": 78,
      "metadata": {
        "id": "e6f04965",
        "outputId": "c2b1a01c-85e1-4ef7-e536-133856249043",
        "colab": {
          "base_uri": "https://localhost:8080/"
        }
      },
      "outputs": [
        {
          "output_type": "execute_result",
          "data": {
            "text/plain": [
              "array([[-2.93985401e-01,  6.09099764e-01,  5.87161592e-02,\n",
              "         3.35532542e-01,  1.87432401e-01,  1.04288961e-05,\n",
              "        -4.16633804e-05, -3.64321481e-03, -5.52385232e-03,\n",
              "         2.66888854e+00,  3.37842207e-01]])"
            ]
          },
          "metadata": {},
          "execution_count": 78
        }
      ],
      "source": [
        "a=logistic_regression.coef_\n",
        "a"
      ],
      "id": "e6f04965"
    },
    {
      "cell_type": "code",
      "execution_count": 79,
      "metadata": {
        "id": "777fefa2",
        "outputId": "6d165692-c644-4166-8d00-19cc65532d13",
        "colab": {
          "base_uri": "https://localhost:8080/",
          "height": 394
        }
      },
      "outputs": [
        {
          "output_type": "execute_result",
          "data": {
            "text/plain": [
              "                   Coefficient\n",
              "Gender               -0.321698\n",
              "Married               0.585009\n",
              "Dependents           -0.283757\n",
              "Education             0.343646\n",
              "Self_Employed         0.161228\n",
              "ApplicantIncome       0.000015\n",
              "CoapplicantIncome    -0.000046\n",
              "LoanAmount           -0.003099\n",
              "Loan_Amount_Term     -0.004879\n",
              "Credit_History        2.708106\n",
              "Property_Area         0.267863"
            ],
            "text/html": [
              "\n",
              "  <div id=\"df-e11c246c-444f-4f7f-a207-0175f36d04ad\">\n",
              "    <div class=\"colab-df-container\">\n",
              "      <div>\n",
              "<style scoped>\n",
              "    .dataframe tbody tr th:only-of-type {\n",
              "        vertical-align: middle;\n",
              "    }\n",
              "\n",
              "    .dataframe tbody tr th {\n",
              "        vertical-align: top;\n",
              "    }\n",
              "\n",
              "    .dataframe thead th {\n",
              "        text-align: right;\n",
              "    }\n",
              "</style>\n",
              "<table border=\"1\" class=\"dataframe\">\n",
              "  <thead>\n",
              "    <tr style=\"text-align: right;\">\n",
              "      <th></th>\n",
              "      <th>Coefficient</th>\n",
              "    </tr>\n",
              "  </thead>\n",
              "  <tbody>\n",
              "    <tr>\n",
              "      <th>Gender</th>\n",
              "      <td>-0.321698</td>\n",
              "    </tr>\n",
              "    <tr>\n",
              "      <th>Married</th>\n",
              "      <td>0.585009</td>\n",
              "    </tr>\n",
              "    <tr>\n",
              "      <th>Dependents</th>\n",
              "      <td>-0.283757</td>\n",
              "    </tr>\n",
              "    <tr>\n",
              "      <th>Education</th>\n",
              "      <td>0.343646</td>\n",
              "    </tr>\n",
              "    <tr>\n",
              "      <th>Self_Employed</th>\n",
              "      <td>0.161228</td>\n",
              "    </tr>\n",
              "    <tr>\n",
              "      <th>ApplicantIncome</th>\n",
              "      <td>0.000015</td>\n",
              "    </tr>\n",
              "    <tr>\n",
              "      <th>CoapplicantIncome</th>\n",
              "      <td>-0.000046</td>\n",
              "    </tr>\n",
              "    <tr>\n",
              "      <th>LoanAmount</th>\n",
              "      <td>-0.003099</td>\n",
              "    </tr>\n",
              "    <tr>\n",
              "      <th>Loan_Amount_Term</th>\n",
              "      <td>-0.004879</td>\n",
              "    </tr>\n",
              "    <tr>\n",
              "      <th>Credit_History</th>\n",
              "      <td>2.708106</td>\n",
              "    </tr>\n",
              "    <tr>\n",
              "      <th>Property_Area</th>\n",
              "      <td>0.267863</td>\n",
              "    </tr>\n",
              "  </tbody>\n",
              "</table>\n",
              "</div>\n",
              "      <button class=\"colab-df-convert\" onclick=\"convertToInteractive('df-e11c246c-444f-4f7f-a207-0175f36d04ad')\"\n",
              "              title=\"Convert this dataframe to an interactive table.\"\n",
              "              style=\"display:none;\">\n",
              "        \n",
              "  <svg xmlns=\"http://www.w3.org/2000/svg\" height=\"24px\"viewBox=\"0 0 24 24\"\n",
              "       width=\"24px\">\n",
              "    <path d=\"M0 0h24v24H0V0z\" fill=\"none\"/>\n",
              "    <path d=\"M18.56 5.44l.94 2.06.94-2.06 2.06-.94-2.06-.94-.94-2.06-.94 2.06-2.06.94zm-11 1L8.5 8.5l.94-2.06 2.06-.94-2.06-.94L8.5 2.5l-.94 2.06-2.06.94zm10 10l.94 2.06.94-2.06 2.06-.94-2.06-.94-.94-2.06-.94 2.06-2.06.94z\"/><path d=\"M17.41 7.96l-1.37-1.37c-.4-.4-.92-.59-1.43-.59-.52 0-1.04.2-1.43.59L10.3 9.45l-7.72 7.72c-.78.78-.78 2.05 0 2.83L4 21.41c.39.39.9.59 1.41.59.51 0 1.02-.2 1.41-.59l7.78-7.78 2.81-2.81c.8-.78.8-2.07 0-2.86zM5.41 20L4 18.59l7.72-7.72 1.47 1.35L5.41 20z\"/>\n",
              "  </svg>\n",
              "      </button>\n",
              "      \n",
              "  <style>\n",
              "    .colab-df-container {\n",
              "      display:flex;\n",
              "      flex-wrap:wrap;\n",
              "      gap: 12px;\n",
              "    }\n",
              "\n",
              "    .colab-df-convert {\n",
              "      background-color: #E8F0FE;\n",
              "      border: none;\n",
              "      border-radius: 50%;\n",
              "      cursor: pointer;\n",
              "      display: none;\n",
              "      fill: #1967D2;\n",
              "      height: 32px;\n",
              "      padding: 0 0 0 0;\n",
              "      width: 32px;\n",
              "    }\n",
              "\n",
              "    .colab-df-convert:hover {\n",
              "      background-color: #E2EBFA;\n",
              "      box-shadow: 0px 1px 2px rgba(60, 64, 67, 0.3), 0px 1px 3px 1px rgba(60, 64, 67, 0.15);\n",
              "      fill: #174EA6;\n",
              "    }\n",
              "\n",
              "    [theme=dark] .colab-df-convert {\n",
              "      background-color: #3B4455;\n",
              "      fill: #D2E3FC;\n",
              "    }\n",
              "\n",
              "    [theme=dark] .colab-df-convert:hover {\n",
              "      background-color: #434B5C;\n",
              "      box-shadow: 0px 1px 3px 1px rgba(0, 0, 0, 0.15);\n",
              "      filter: drop-shadow(0px 1px 2px rgba(0, 0, 0, 0.3));\n",
              "      fill: #FFFFFF;\n",
              "    }\n",
              "  </style>\n",
              "\n",
              "      <script>\n",
              "        const buttonEl =\n",
              "          document.querySelector('#df-e11c246c-444f-4f7f-a207-0175f36d04ad button.colab-df-convert');\n",
              "        buttonEl.style.display =\n",
              "          google.colab.kernel.accessAllowed ? 'block' : 'none';\n",
              "\n",
              "        async function convertToInteractive(key) {\n",
              "          const element = document.querySelector('#df-e11c246c-444f-4f7f-a207-0175f36d04ad');\n",
              "          const dataTable =\n",
              "            await google.colab.kernel.invokeFunction('convertToInteractive',\n",
              "                                                     [key], {});\n",
              "          if (!dataTable) return;\n",
              "\n",
              "          const docLinkHtml = 'Like what you see? Visit the ' +\n",
              "            '<a target=\"_blank\" href=https://colab.research.google.com/notebooks/data_table.ipynb>data table notebook</a>'\n",
              "            + ' to learn more about interactive tables.';\n",
              "          element.innerHTML = '';\n",
              "          dataTable['output_type'] = 'display_data';\n",
              "          await google.colab.output.renderOutput(dataTable, element);\n",
              "          const docLink = document.createElement('div');\n",
              "          docLink.innerHTML = docLinkHtml;\n",
              "          element.appendChild(docLink);\n",
              "        }\n",
              "      </script>\n",
              "    </div>\n",
              "  </div>\n",
              "  "
            ]
          },
          "metadata": {},
          "execution_count": 79
        }
      ],
      "source": [
        "data={'Coefficient':[-3.21698383e-01,  5.85009282e-01, -2.83756621e-01,\n",
        "         3.43645997e-01,  1.61227716e-01,  1.47310365e-05,\n",
        "        -4.64371438e-05, -3.09890183e-03, -4.87893366e-03,\n",
        "         2.70810638e+00,  2.67863417e-01]}\n",
        "coeff_df = pd.DataFrame(data=data,index=['Gender', 'Married', 'Dependents', 'Education', 'Self_Employed','ApplicantIncome', 'CoapplicantIncome', \n",
        "         'LoanAmount','Loan_Amount_Term', 'Credit_History', 'Property_Area'])\n",
        "coeff_df"
      ],
      "id": "777fefa2"
    },
    {
      "cell_type": "code",
      "execution_count": 80,
      "metadata": {
        "id": "f4142a8e",
        "outputId": "693bbaef-99ab-4091-dae8-7bc25eeaf976",
        "colab": {
          "base_uri": "https://localhost:8080/"
        }
      },
      "outputs": [
        {
          "output_type": "execute_result",
          "data": {
            "text/plain": [
              "array([-0.03504299])"
            ]
          },
          "metadata": {},
          "execution_count": 80
        }
      ],
      "source": [
        "logistic_regression.intercept_"
      ],
      "id": "f4142a8e"
    },
    {
      "cell_type": "markdown",
      "metadata": {
        "id": "65023e86"
      },
      "source": [
        "## TOP 5 IMPORTANT FEATURES\n",
        "1. Credit history\n",
        "2. Married\n",
        "3. Education\n",
        "4. Property area\n",
        "5. Self employed"
      ],
      "id": "65023e86"
    },
    {
      "cell_type": "markdown",
      "metadata": {
        "id": "a0aee88e"
      },
      "source": [
        "### Equation\n",
        "**y= 1/ (1+ e^-mx-c)**\n",
        "\n",
        "\n",
        "**Loan_status**\n",
        "    =1/(1+e^(-(-0.321698383)*Gender - 0.585009282*Married - (-0.283756621)*Dependents   \n",
        "    -0.343645997*(Education) - 0.161227716*Self_employed -0.147310365*Applicantincome\n",
        "    -(-0.464371438)*coapplicantincome -(-0.309890183)*loanamount\n",
        "    -(-4.87893366)*loanamountterm \n",
        "    -(2.70810638)*credit_history -0.267863417property_area - (0.00303979)))"
      ],
      "id": "a0aee88e"
    },
    {
      "cell_type": "code",
      "execution_count": 81,
      "metadata": {
        "id": "c589ac55",
        "outputId": "49ee03b0-2a48-40cd-fe6b-f8a63d44519a",
        "colab": {
          "base_uri": "https://localhost:8080/",
          "height": 424
        }
      },
      "outputs": [
        {
          "output_type": "execute_result",
          "data": {
            "text/plain": [
              "     Actual  Predicted\n",
              "0         0          0\n",
              "1         1          1\n",
              "2         1          1\n",
              "3         0          1\n",
              "4         1          1\n",
              "..      ...        ...\n",
              "126       0          0\n",
              "127       1          1\n",
              "128       1          1\n",
              "129       1          1\n",
              "130       1          1\n",
              "\n",
              "[131 rows x 2 columns]"
            ],
            "text/html": [
              "\n",
              "  <div id=\"df-b8977413-6712-45c7-8d0d-8523a350e7ca\">\n",
              "    <div class=\"colab-df-container\">\n",
              "      <div>\n",
              "<style scoped>\n",
              "    .dataframe tbody tr th:only-of-type {\n",
              "        vertical-align: middle;\n",
              "    }\n",
              "\n",
              "    .dataframe tbody tr th {\n",
              "        vertical-align: top;\n",
              "    }\n",
              "\n",
              "    .dataframe thead th {\n",
              "        text-align: right;\n",
              "    }\n",
              "</style>\n",
              "<table border=\"1\" class=\"dataframe\">\n",
              "  <thead>\n",
              "    <tr style=\"text-align: right;\">\n",
              "      <th></th>\n",
              "      <th>Actual</th>\n",
              "      <th>Predicted</th>\n",
              "    </tr>\n",
              "  </thead>\n",
              "  <tbody>\n",
              "    <tr>\n",
              "      <th>0</th>\n",
              "      <td>0</td>\n",
              "      <td>0</td>\n",
              "    </tr>\n",
              "    <tr>\n",
              "      <th>1</th>\n",
              "      <td>1</td>\n",
              "      <td>1</td>\n",
              "    </tr>\n",
              "    <tr>\n",
              "      <th>2</th>\n",
              "      <td>1</td>\n",
              "      <td>1</td>\n",
              "    </tr>\n",
              "    <tr>\n",
              "      <th>3</th>\n",
              "      <td>0</td>\n",
              "      <td>1</td>\n",
              "    </tr>\n",
              "    <tr>\n",
              "      <th>4</th>\n",
              "      <td>1</td>\n",
              "      <td>1</td>\n",
              "    </tr>\n",
              "    <tr>\n",
              "      <th>...</th>\n",
              "      <td>...</td>\n",
              "      <td>...</td>\n",
              "    </tr>\n",
              "    <tr>\n",
              "      <th>126</th>\n",
              "      <td>0</td>\n",
              "      <td>0</td>\n",
              "    </tr>\n",
              "    <tr>\n",
              "      <th>127</th>\n",
              "      <td>1</td>\n",
              "      <td>1</td>\n",
              "    </tr>\n",
              "    <tr>\n",
              "      <th>128</th>\n",
              "      <td>1</td>\n",
              "      <td>1</td>\n",
              "    </tr>\n",
              "    <tr>\n",
              "      <th>129</th>\n",
              "      <td>1</td>\n",
              "      <td>1</td>\n",
              "    </tr>\n",
              "    <tr>\n",
              "      <th>130</th>\n",
              "      <td>1</td>\n",
              "      <td>1</td>\n",
              "    </tr>\n",
              "  </tbody>\n",
              "</table>\n",
              "<p>131 rows × 2 columns</p>\n",
              "</div>\n",
              "      <button class=\"colab-df-convert\" onclick=\"convertToInteractive('df-b8977413-6712-45c7-8d0d-8523a350e7ca')\"\n",
              "              title=\"Convert this dataframe to an interactive table.\"\n",
              "              style=\"display:none;\">\n",
              "        \n",
              "  <svg xmlns=\"http://www.w3.org/2000/svg\" height=\"24px\"viewBox=\"0 0 24 24\"\n",
              "       width=\"24px\">\n",
              "    <path d=\"M0 0h24v24H0V0z\" fill=\"none\"/>\n",
              "    <path d=\"M18.56 5.44l.94 2.06.94-2.06 2.06-.94-2.06-.94-.94-2.06-.94 2.06-2.06.94zm-11 1L8.5 8.5l.94-2.06 2.06-.94-2.06-.94L8.5 2.5l-.94 2.06-2.06.94zm10 10l.94 2.06.94-2.06 2.06-.94-2.06-.94-.94-2.06-.94 2.06-2.06.94z\"/><path d=\"M17.41 7.96l-1.37-1.37c-.4-.4-.92-.59-1.43-.59-.52 0-1.04.2-1.43.59L10.3 9.45l-7.72 7.72c-.78.78-.78 2.05 0 2.83L4 21.41c.39.39.9.59 1.41.59.51 0 1.02-.2 1.41-.59l7.78-7.78 2.81-2.81c.8-.78.8-2.07 0-2.86zM5.41 20L4 18.59l7.72-7.72 1.47 1.35L5.41 20z\"/>\n",
              "  </svg>\n",
              "      </button>\n",
              "      \n",
              "  <style>\n",
              "    .colab-df-container {\n",
              "      display:flex;\n",
              "      flex-wrap:wrap;\n",
              "      gap: 12px;\n",
              "    }\n",
              "\n",
              "    .colab-df-convert {\n",
              "      background-color: #E8F0FE;\n",
              "      border: none;\n",
              "      border-radius: 50%;\n",
              "      cursor: pointer;\n",
              "      display: none;\n",
              "      fill: #1967D2;\n",
              "      height: 32px;\n",
              "      padding: 0 0 0 0;\n",
              "      width: 32px;\n",
              "    }\n",
              "\n",
              "    .colab-df-convert:hover {\n",
              "      background-color: #E2EBFA;\n",
              "      box-shadow: 0px 1px 2px rgba(60, 64, 67, 0.3), 0px 1px 3px 1px rgba(60, 64, 67, 0.15);\n",
              "      fill: #174EA6;\n",
              "    }\n",
              "\n",
              "    [theme=dark] .colab-df-convert {\n",
              "      background-color: #3B4455;\n",
              "      fill: #D2E3FC;\n",
              "    }\n",
              "\n",
              "    [theme=dark] .colab-df-convert:hover {\n",
              "      background-color: #434B5C;\n",
              "      box-shadow: 0px 1px 3px 1px rgba(0, 0, 0, 0.15);\n",
              "      filter: drop-shadow(0px 1px 2px rgba(0, 0, 0, 0.3));\n",
              "      fill: #FFFFFF;\n",
              "    }\n",
              "  </style>\n",
              "\n",
              "      <script>\n",
              "        const buttonEl =\n",
              "          document.querySelector('#df-b8977413-6712-45c7-8d0d-8523a350e7ca button.colab-df-convert');\n",
              "        buttonEl.style.display =\n",
              "          google.colab.kernel.accessAllowed ? 'block' : 'none';\n",
              "\n",
              "        async function convertToInteractive(key) {\n",
              "          const element = document.querySelector('#df-b8977413-6712-45c7-8d0d-8523a350e7ca');\n",
              "          const dataTable =\n",
              "            await google.colab.kernel.invokeFunction('convertToInteractive',\n",
              "                                                     [key], {});\n",
              "          if (!dataTable) return;\n",
              "\n",
              "          const docLinkHtml = 'Like what you see? Visit the ' +\n",
              "            '<a target=\"_blank\" href=https://colab.research.google.com/notebooks/data_table.ipynb>data table notebook</a>'\n",
              "            + ' to learn more about interactive tables.';\n",
              "          element.innerHTML = '';\n",
              "          dataTable['output_type'] = 'display_data';\n",
              "          await google.colab.output.renderOutput(dataTable, element);\n",
              "          const docLink = document.createElement('div');\n",
              "          docLink.innerHTML = docLinkHtml;\n",
              "          element.appendChild(docLink);\n",
              "        }\n",
              "      </script>\n",
              "    </div>\n",
              "  </div>\n",
              "  "
            ]
          },
          "metadata": {},
          "execution_count": 81
        }
      ],
      "source": [
        "y_test=y_test\n",
        "y_pred = logistic_regression.predict(X_test)\n",
        "df = pd.DataFrame({'Actual': y_test, 'Predicted': y_pred})\n",
        "df"
      ],
      "id": "c589ac55"
    },
    {
      "cell_type": "code",
      "execution_count": 82,
      "metadata": {
        "id": "7cbee07d",
        "outputId": "1cdb4622-18be-4b35-e8ec-404f21d22c1e",
        "colab": {
          "base_uri": "https://localhost:8080/",
          "height": 296
        }
      },
      "outputs": [
        {
          "output_type": "execute_result",
          "data": {
            "text/plain": [
              "<matplotlib.axes._subplots.AxesSubplot at 0x7f323e60b6d0>"
            ]
          },
          "metadata": {},
          "execution_count": 82
        },
        {
          "output_type": "display_data",
          "data": {
            "text/plain": [
              "<Figure size 432x288 with 2 Axes>"
            ],
            "image/png": "[encoded data removed]"
          },
          "metadata": {
            "needs_background": "light"
          }
        }
      ],
      "source": [
        "confusion_matrix = pd.crosstab(y_test, y_pred, rownames=['Actual'], colnames=['Predicted'])\n",
        "sns.heatmap(confusion_matrix, annot=True)"
      ],
      "id": "7cbee07d"
    },
    {
      "cell_type": "markdown",
      "metadata": {
        "id": "37e6c51f"
      },
      "source": [
        "# EVALUATION METRIC"
      ],
      "id": "37e6c51f"
    },
    {
      "cell_type": "code",
      "execution_count": 83,
      "metadata": {
        "id": "4944794d",
        "outputId": "49a9801e-ff52-4ce9-a26b-e68797c9f09c",
        "colab": {
          "base_uri": "https://localhost:8080/"
        }
      },
      "outputs": [
        {
          "output_type": "execute_result",
          "data": {
            "text/plain": [
              "0.8857142857142857"
            ]
          },
          "metadata": {},
          "execution_count": 83
        }
      ],
      "source": [
        "f1_score(y_test,y_pred)"
      ],
      "id": "4944794d"
    },
    {
      "cell_type": "code",
      "execution_count": 84,
      "metadata": {
        "id": "69f3ddad",
        "outputId": "82a42b43-65ae-464e-cf61-60524377d1a7",
        "colab": {
          "base_uri": "https://localhost:8080/",
          "height": 351
        }
      },
      "outputs": [
        {
          "output_type": "stream",
          "name": "stderr",
          "text": [
            "/usr/local/lib/python3.7/dist-packages/sklearn/utils/deprecation.py:87: FutureWarning: Function plot_roc_curve is deprecated; Function :func:`plot_roc_curve` is deprecated in 1.0 and will be removed in 1.2. Use one of the class methods: :meth:`sklearn.metric.RocCurveDisplay.from_predictions` or :meth:`sklearn.metric.RocCurveDisplay.from_estimator`.\n",
            "  warnings.warn(msg, category=FutureWarning)\n"
          ]
        },
        {
          "output_type": "execute_result",
          "data": {
            "text/plain": [
              "<sklearn.metrics._plot.roc_curve.RocCurveDisplay at 0x7f323e2429d0>"
            ]
          },
          "metadata": {},
          "execution_count": 84
        },
        {
          "output_type": "display_data",
          "data": {
            "text/plain": [
              "<Figure size 432x288 with 1 Axes>"
            ],
            "image/png": "[encoded data removed]"
          },
          "metadata": {
            "needs_background": "light"
          }
        }
      ],
      "source": [
        "plot_roc_curve(logistic_regression, X_test, y_test)"
      ],
      "id": "69f3ddad"
    },
    {
      "cell_type": "markdown",
      "metadata": {
        "id": "9bd20732"
      },
      "source": [
        "##  USING X_TEST"
      ],
      "id": "9bd20732"
    },
    {
      "cell_type": "code",
      "execution_count": 85,
      "metadata": {
        "id": "1aced68a",
        "outputId": "bb4dbc12-2ad9-4ca1-cc59-84742981669f",
        "colab": {
          "base_uri": "https://localhost:8080/"
        }
      },
      "outputs": [
        {
          "output_type": "stream",
          "name": "stderr",
          "text": [
            "/usr/local/lib/python3.7/dist-packages/sklearn/base.py:444: UserWarning: X has feature names, but LogisticRegression was fitted without feature names\n",
            "  f\"X has feature names, but {self.__class__.__name__} was fitted without\"\n"
          ]
        },
        {
          "output_type": "execute_result",
          "data": {
            "text/plain": [
              "0      1\n",
              "1      1\n",
              "2      1\n",
              "3      1\n",
              "4      1\n",
              "      ..\n",
              "126    1\n",
              "127    1\n",
              "128    1\n",
              "129    1\n",
              "130    1\n",
              "Name: loan_status, Length: 131, dtype: int64"
            ]
          },
          "metadata": {},
          "execution_count": 85
        }
      ],
      "source": [
        "y_pred = logistic_regression.predict(x_test)\n",
        "df['loan_status'] = pd.DataFrame({'Predicted': y_pred})\n",
        "df['loan_status']"
      ],
      "id": "1aced68a"
    },
    {
      "cell_type": "code",
      "execution_count": 86,
      "metadata": {
        "id": "79b83a55",
        "outputId": "5b320d29-533c-4f6b-b9ca-f1486f42505c",
        "colab": {
          "base_uri": "https://localhost:8080/"
        }
      },
      "outputs": [
        {
          "output_type": "execute_result",
          "data": {
            "text/plain": [
              "22"
            ]
          },
          "metadata": {},
          "execution_count": 86
        }
      ],
      "source": [
        "df['loan_status'].unique()\n",
        "len(df['loan_status'])-df['loan_status'].sum()"
      ],
      "id": "79b83a55"
    },
    {
      "cell_type": "code",
      "execution_count": 87,
      "metadata": {
        "id": "bbe92f8e",
        "colab": {
          "base_uri": "https://localhost:8080/"
        },
        "outputId": "29db25ff-b92a-4298-ac2b-fedd296ad701"
      },
      "outputs": [
        {
          "output_type": "execute_result",
          "data": {
            "text/plain": [
              "0      1\n",
              "1      1\n",
              "2      1\n",
              "3      1\n",
              "4      1\n",
              "      ..\n",
              "126    1\n",
              "127    1\n",
              "128    1\n",
              "129    1\n",
              "130    1\n",
              "Name: loan_status, Length: 131, dtype: int64"
            ]
          },
          "metadata": {},
          "execution_count": 87
        }
      ],
      "source": [
        "df['loan_status']"
      ],
      "id": "bbe92f8e"
    },
    {
      "cell_type": "markdown",
      "source": [
        "## **DESICION TREE**"
      ],
      "metadata": {
        "id": "frzeKEyOxirG"
      },
      "id": "frzeKEyOxirG"
    },
    {
      "cell_type": "code",
      "source": [
        "from sklearn.metrics import accuracy_score, roc_auc_score, plot_roc_curve\n",
        "from sklearn.model_selection import cross_val_score \n",
        "from sklearn.tree import DecisionTreeClassifier \n",
        "import numpy as np\n",
        "\n",
        "for depth in [1,2,3,4,5,6,7,8,9,10,20,40,60]:\n",
        "  dt = DecisionTreeClassifier(max_depth=depth) # will tell the DT to not grow past the given threhsold\n",
        "  # Fit dt to the training set\n",
        "  dt.fit(X_train, y_train) # the model is trained\n",
        "  trainAccuracy = accuracy_score(y_train, dt.predict(X_train)) # this is useless information - i am showing to prove a point\n",
        "  dt = DecisionTreeClassifier(max_depth=depth) # a fresh model which is not trained yet\n",
        "  valAccuracy = cross_val_score(dt, X_test, y_test, cv=10) # syntax : cross_val_Score(freshModel,fts, target, cv= 10/5)\n",
        "  print(\"Depth  : \", depth, \" Training Accuracy : \", trainAccuracy, \" Cross val score : \" ,np.mean(valAccuracy))\n"
      ],
      "metadata": {
        "colab": {
          "base_uri": "https://localhost:8080/"
        },
        "id": "DnZ-TRW1xmD8",
        "outputId": "e98ea669-6b99-4722-a645-b0278fed9fd9"
      },
      "id": "DnZ-TRW1xmD8",
      "execution_count": 88,
      "outputs": [
        {
          "output_type": "stream",
          "name": "stdout",
          "text": [
            "Depth  :  1  Training Accuracy :  0.8035714285714286  Cross val score :  0.8247252747252748\n",
            "Depth  :  2  Training Accuracy :  0.8112244897959183  Cross val score :  0.8016483516483518\n",
            "Depth  :  3  Training Accuracy :  0.8112244897959183  Cross val score :  0.7098901098901098\n",
            "Depth  :  4  Training Accuracy :  0.8214285714285714  Cross val score :  0.7181318681318681\n",
            "Depth  :  5  Training Accuracy :  0.8443877551020408  Cross val score :  0.7109890109890109\n",
            "Depth  :  6  Training Accuracy :  0.8596938775510204  Cross val score :  0.689010989010989\n",
            "Depth  :  7  Training Accuracy :  0.8903061224489796  Cross val score :  0.7115384615384615\n",
            "Depth  :  8  Training Accuracy :  0.9132653061224489  Cross val score :  0.6725274725274726\n",
            "Depth  :  9  Training Accuracy :  0.9413265306122449  Cross val score :  0.6884615384615385\n",
            "Depth  :  10  Training Accuracy :  0.9591836734693877  Cross val score :  0.6730769230769231\n",
            "Depth  :  20  Training Accuracy :  1.0  Cross val score :  0.6884615384615385\n",
            "Depth  :  40  Training Accuracy :  1.0  Cross val score :  0.6956043956043956\n",
            "Depth  :  60  Training Accuracy :  1.0  Cross val score :  0.6736263736263737\n"
          ]
        }
      ]
    },
    {
      "cell_type": "code",
      "source": [
        "from sklearn.metrics import roc_auc_score \n",
        "dt = DecisionTreeClassifier(max_depth=1) \n",
        "dt.fit(X_train,y_train) \n",
        "print( \"AUROC score: \",roc_auc_score( y_test, dt.predict_proba(X_test)[:, 1]))"
      ],
      "metadata": {
        "colab": {
          "base_uri": "https://localhost:8080/"
        },
        "id": "eKwdP57eyOBS",
        "outputId": "703cbdb2-f27e-4bf1-9d3c-ae033f0a8aae"
      },
      "id": "eKwdP57eyOBS",
      "execution_count": 89,
      "outputs": [
        {
          "output_type": "stream",
          "name": "stdout",
          "text": [
            "AUROC score:  0.6891812865497076\n"
          ]
        }
      ]
    },
    {
      "cell_type": "code",
      "source": [
        "importance = dt.feature_importances_\n",
        "list(zip(importance,['Gender', 'Married', 'Dependents', 'Education', 'Self_Employed',\n",
        "       'ApplicantIncome', 'CoapplicantIncome', 'LoanAmount',\n",
        "       'Loan_Amount_Term', 'Credit_History', 'Property_Area']))"
      ],
      "metadata": {
        "colab": {
          "base_uri": "https://localhost:8080/"
        },
        "id": "WeMEGDARyH3o",
        "outputId": "8a078156-fdbe-4df3-d17f-283e85d76bbe"
      },
      "id": "WeMEGDARyH3o",
      "execution_count": 90,
      "outputs": [
        {
          "output_type": "execute_result",
          "data": {
            "text/plain": [
              "[(0.0, 'Gender'),\n",
              " (0.0, 'Married'),\n",
              " (0.0, 'Dependents'),\n",
              " (0.0, 'Education'),\n",
              " (0.0, 'Self_Employed'),\n",
              " (0.0, 'ApplicantIncome'),\n",
              " (0.0, 'CoapplicantIncome'),\n",
              " (0.0, 'LoanAmount'),\n",
              " (0.0, 'Loan_Amount_Term'),\n",
              " (1.0, 'Credit_History'),\n",
              " (0.0, 'Property_Area')]"
            ]
          },
          "metadata": {},
          "execution_count": 90
        }
      ]
    },
    {
      "cell_type": "code",
      "source": [],
      "metadata": {
        "id": "rk5zBk0U2e1R"
      },
      "id": "rk5zBk0U2e1R",
      "execution_count": null,
      "outputs": []
    },
    {
      "cell_type": "markdown",
      "source": [
        "## **XG-BOOST**"
      ],
      "metadata": {
        "id": "-r_D15z62Z5v"
      },
      "id": "-r_D15z62Z5v"
    },
    {
      "cell_type": "code",
      "source": [
        "import xgboost as xgb\n",
        "from sklearn.model_selection import cross_val_score \n",
        "import numpy as np \n",
        "for lr in [0.01,0.02,0.03,0.04,0.05,0.1,0.11,0.12,0.13,0.14,0.15,0.2,0.5,0.7,1]: \n",
        "  model = xgb.XGBClassifier(learning_rate = lr, n_estimators=100, verbosity = 0) # initialise the model model.fit(X_smt,y_smt) #train the model \n",
        "  print(\"Learning rate : \", lr,\" Cross-Val score : \", np.mean(cross_val_score(model, X_test, y_test, cv=10)))"
      ],
      "metadata": {
        "colab": {
          "base_uri": "https://localhost:8080/"
        },
        "id": "z45IcSZv2dpV",
        "outputId": "f89feaaf-6a9a-4aeb-aaba-3690ee7b651a"
      },
      "id": "z45IcSZv2dpV",
      "execution_count": 91,
      "outputs": [
        {
          "output_type": "stream",
          "name": "stdout",
          "text": [
            "Learning rate :  0.01  Cross-Val score :  0.8170329670329671\n",
            "Learning rate :  0.02  Cross-Val score :  0.8170329670329671\n",
            "Learning rate :  0.03  Cross-Val score :  0.8021978021978023\n",
            "Learning rate :  0.04  Cross-Val score :  0.8021978021978023\n",
            "Learning rate :  0.05  Cross-Val score :  0.7950549450549451\n",
            "Learning rate :  0.1  Cross-Val score :  0.7714285714285714\n",
            "Learning rate :  0.11  Cross-Val score :  0.7791208791208791\n",
            "Learning rate :  0.12  Cross-Val score :  0.7785714285714286\n",
            "Learning rate :  0.13  Cross-Val score :  0.7785714285714286\n",
            "Learning rate :  0.14  Cross-Val score :  0.7708791208791208\n",
            "Learning rate :  0.15  Cross-Val score :  0.7785714285714286\n",
            "Learning rate :  0.2  Cross-Val score :  0.7483516483516484\n",
            "Learning rate :  0.5  Cross-Val score :  0.732967032967033\n",
            "Learning rate :  0.7  Cross-Val score :  0.7252747252747254\n",
            "Learning rate :  1  Cross-Val score :  0.7098901098901099\n"
          ]
        }
      ]
    },
    {
      "cell_type": "code",
      "source": [
        "from sklearn.metrics import plot_roc_curve, roc_curve, roc_auc_score, confusion_matrix, f1_score\n",
        "model = xgb.XGBClassifier(learning_rate = 0.01, n_estimators=100, verbosity = 0) # initialise the model \n",
        "model.fit(X_train,y_train)\n",
        "print( \"AUROC score: \",roc_auc_score( y_test, model.predict_proba(X_test)[:, 1]))"
      ],
      "metadata": {
        "colab": {
          "base_uri": "https://localhost:8080/"
        },
        "id": "zwifpZRuyNl4",
        "outputId": "307bb0b4-6891-4ebb-f425-7d707cdce07c"
      },
      "id": "zwifpZRuyNl4",
      "execution_count": 92,
      "outputs": [
        {
          "output_type": "stream",
          "name": "stdout",
          "text": [
            "AUROC score:  0.6282163742690059\n"
          ]
        }
      ]
    },
    {
      "cell_type": "code",
      "source": [
        "importance = model.feature_importances_\n",
        "list(zip(importance,['Gender', 'Married', 'Dependents', 'Education', 'Self_Employed',\n",
        "       'ApplicantIncome', 'CoapplicantIncome', 'LoanAmount',\n",
        "       'Loan_Amount_Term', 'Credit_History', 'Property_Area']))"
      ],
      "metadata": {
        "colab": {
          "base_uri": "https://localhost:8080/"
        },
        "id": "HKnE-NDA3XoP",
        "outputId": "b48ac017-3b3c-4dc5-d465-d442404ce280"
      },
      "id": "HKnE-NDA3XoP",
      "execution_count": 93,
      "outputs": [
        {
          "output_type": "execute_result",
          "data": {
            "text/plain": [
              "[(0.0, 'Gender'),\n",
              " (0.046604738, 'Married'),\n",
              " (0.041933097, 'Dependents'),\n",
              " (0.0, 'Education'),\n",
              " (0.045464393, 'Self_Employed'),\n",
              " (0.039233424, 'ApplicantIncome'),\n",
              " (0.005004513, 'CoapplicantIncome'),\n",
              " (0.03007323, 'LoanAmount'),\n",
              " (0.03196546, 'Loan_Amount_Term'),\n",
              " (0.75972116, 'Credit_History'),\n",
              " (0.0, 'Property_Area')]"
            ]
          },
          "metadata": {},
          "execution_count": 93
        }
      ]
    },
    {
      "cell_type": "markdown",
      "source": [
        "## **RANDOM FOREST**"
      ],
      "metadata": {
        "id": "GIvLM53f4GRA"
      },
      "id": "GIvLM53f4GRA"
    },
    {
      "cell_type": "code",
      "source": [
        "from sklearn.ensemble import RandomForestClassifier \n",
        "classifier = RandomForestClassifier(n_estimators=100,criterion=\"entropy\") \n",
        "classifier.fit(X_train,y_train)\n",
        "y_pred = classifier.predict(X_test)\n",
        "print( \"AUROC score: \",roc_auc_score( y_test, classifier.predict_proba(X_test)[:, 1]))"
      ],
      "metadata": {
        "colab": {
          "base_uri": "https://localhost:8080/"
        },
        "id": "kuPllSp83y4o",
        "outputId": "f4d1e22d-d0f8-4ed1-ff3a-1526e022733b"
      },
      "id": "kuPllSp83y4o",
      "execution_count": 94,
      "outputs": [
        {
          "output_type": "stream",
          "name": "stdout",
          "text": [
            "AUROC score:  0.6973684210526316\n"
          ]
        }
      ]
    },
    {
      "cell_type": "code",
      "source": [
        "importance = classifier.feature_importances_\n",
        "list(zip(importance,['Gender', 'Married', 'Dependents', 'Education', 'Self_Employed',\n",
        "       'ApplicantIncome', 'CoapplicantIncome', 'LoanAmount',\n",
        "       'Loan_Amount_Term', 'Credit_History', 'Property_Area']))"
      ],
      "metadata": {
        "colab": {
          "base_uri": "https://localhost:8080/"
        },
        "id": "XPzDMdZx5VDP",
        "outputId": "fe77504f-5b27-4bb8-c1f6-aa104133cf6a"
      },
      "id": "XPzDMdZx5VDP",
      "execution_count": 95,
      "outputs": [
        {
          "output_type": "execute_result",
          "data": {
            "text/plain": [
              "[(0.01945225499882716, 'Gender'),\n",
              " (0.031575813537754106, 'Married'),\n",
              " (0.05618790072845858, 'Dependents'),\n",
              " (0.02218231128746833, 'Education'),\n",
              " (0.02037767468319963, 'Self_Employed'),\n",
              " (0.2018145132925795, 'ApplicantIncome'),\n",
              " (0.11987320029200302, 'CoapplicantIncome'),\n",
              " (0.20186524127014527, 'LoanAmount'),\n",
              " (0.05073920796885614, 'Loan_Amount_Term'),\n",
              " (0.22623602824079123, 'Credit_History'),\n",
              " (0.04969585369991697, 'Property_Area')]"
            ]
          },
          "metadata": {},
          "execution_count": 95
        }
      ]
    },
    {
      "cell_type": "markdown",
      "metadata": {
        "id": "66cc45e9"
      },
      "source": [
        "# CONCLUSION"
      ],
      "id": "66cc45e9"
    },
    {
      "cell_type": "markdown",
      "source": [
        "From all our models, we came to know credit history is the top most important feature.\n",
        "  \n",
        "    The Logistic regression AUROC score is 0.75\n",
        "    The Desicion Tree AUROC score is 0.68\n",
        "    The XG-BOOST model AUROC score is 0.62\n",
        "    The Random forest AUROC score is 0.71\n",
        "\n",
        "\n",
        "From above AUROC scores we came to know that Logistic Regression gives us good score compared to others.\n",
        "\n",
        "The loan is mostly approved for the person who have good credit history,graduated,married,non-selfemployed one and the property area in semiurban.\n",
        "\n",
        "From our observation the above mentioned people can easily get loan from the bank."
      ],
      "metadata": {
        "id": "TUsh7nk0tJyh"
      },
      "id": "TUsh7nk0tJyh"
    },
    {
      "cell_type": "markdown",
      "metadata": {
        "id": "TabmE-iDVeK7"
      },
      "source": [
        "                          --------------- THE END ---------------"
      ],
      "id": "TabmE-iDVeK7"
    },
    {
      "cell_type": "code",
      "execution_count": null,
      "metadata": {
        "id": "9a6d2f9d"
      },
      "outputs": [],
      "source": [],
      "id": "9a6d2f9d"
    }
  ],
  "metadata": {
    "colab": {
      "collapsed_sections": [],
      "provenance": []
    },
    "kernelspec": {
      "display_name": "Python 3 (ipykernel)",
      "language": "python",
      "name": "python3"
    },
    "language_info": {
      "codemirror_mode": {
        "name": "ipython",
        "version": 3
      },
      "file_extension": ".py",
      "mimetype": "text/x-python",
      "name": "python",
      "nbconvert_exporter": "python",
      "pygments_lexer": "ipython3",
      "version": "3.9.7"
    }
  },
  "nbformat": 4,
  "nbformat_minor": 5
}